{
  "nbformat": 4,
  "nbformat_minor": 0,
  "metadata": {
    "colab": {
      "provenance": [],
      "gpuType": "A100",
      "machine_shape": "hm"
    },
    "kernelspec": {
      "name": "python3",
      "display_name": "Python 3"
    },
    "language_info": {
      "name": "python"
    },
    "accelerator": "GPU"
  },
  "cells": [
    {
      "cell_type": "markdown",
      "source": [
        "# Senior Design Team 1725, Classifying AIS, MM Solution Training\n",
        "This file is a jupyter notebook containing\n",
        "the training results for the \"multiple models\"\n",
        "solution for the AIS Classification project.\n",
        "\n",
        "Intent: showcase a training method that can work\n",
        "        with any dataset size for a specific class\n",
        "        while also being flexible for training new models\n",
        "        that can handle other invasive species.\n",
        "\n",
        "Basically, rather than having one model that handles all species,\n",
        "we attempt to have multiple models chained together to handle identification"
      ],
      "metadata": {
        "id": "Mn9I90Y1rGRq"
      }
    },
    {
      "cell_type": "markdown",
      "source": [
        "##Training Run: 4\n",
        "This is the third version of the file. This time, we try to accomplish a more advanced training targeting narrowleaf cattail.\n",
        "- From the narrowleaf folder, we use 2200 images.\n",
        "- From the none folder, we take 200 (basically the entire folder)\n",
        "- From the phragmites folder, we use 1000 images\n",
        "- From the purple loosestrife folder, we use 1000 images\n",
        "- Dataset split: 80% training, 10% validation, 10% testing\n",
        "- For our pre-trained model, we use YOLOv11s-cls\n",
        "- For our hyperparameters, we use: 75 epochs, 32 batch size (bigger batch size seems to slow down training more than it helps)\n",
        "- We are using an A100 GPU instance"
      ],
      "metadata": {
        "id": "UXX0YfsF-HHu"
      }
    },
    {
      "cell_type": "markdown",
      "source": [
        "## Dataset Mounting:\n",
        "First, we want to access our dataset. To do this, we mount our sharepoint/OneDrive to colab. Can be done by following [this](https://medium.com/@pratikmukherjee32/mount-onedrive-to-google-colab-f941a3a96a79) guide.\n",
        "\n",
        "You must first run the rclone config *locally*, then you can get it on Colab. The reason for this is because we need an API key for the mount to work properly, which requires web browser access (not possible in Colab)."
      ],
      "metadata": {
        "id": "xUTncdzzrhMQ"
      }
    },
    {
      "cell_type": "code",
      "source": [
        "!wget https://downloads.rclone.org/v1.69.0/rclone-v1.69.0-linux-amd64.deb\n",
        "!apt install ./rclone-v1.69.0-linux-amd64.deb"
      ],
      "metadata": {
        "id": "tNyKnfG3HOyN",
        "colab": {
          "base_uri": "https://localhost:8080/"
        },
        "outputId": "59e3ef98-eecc-43fb-e97f-e71f836db716"
      },
      "execution_count": null,
      "outputs": [
        {
          "output_type": "stream",
          "name": "stdout",
          "text": [
            "--2025-02-11 23:50:27--  https://downloads.rclone.org/v1.69.0/rclone-v1.69.0-linux-amd64.deb\n",
            "Resolving downloads.rclone.org (downloads.rclone.org)... 95.217.6.16, 2a01:4f9:c012:7154::1\n",
            "Connecting to downloads.rclone.org (downloads.rclone.org)|95.217.6.16|:443... connected.\n",
            "HTTP request sent, awaiting response... 200 OK\n",
            "Length: 23665802 (23M) [application/vnd.debian.binary-package]\n",
            "Saving to: ‘rclone-v1.69.0-linux-amd64.deb’\n",
            "\n",
            "rclone-v1.69.0-linu 100%[===================>]  22.57M  12.7MB/s    in 1.8s    \n",
            "\n",
            "2025-02-11 23:50:30 (12.7 MB/s) - ‘rclone-v1.69.0-linux-amd64.deb’ saved [23665802/23665802]\n",
            "\n",
            "Reading package lists... Done\n",
            "Building dependency tree... Done\n",
            "Reading state information... Done\n",
            "Note, selecting 'rclone' instead of './rclone-v1.69.0-linux-amd64.deb'\n",
            "The following NEW packages will be installed:\n",
            "  rclone\n",
            "0 upgraded, 1 newly installed, 0 to remove and 20 not upgraded.\n",
            "Need to get 0 B/23.7 MB of archives.\n",
            "After this operation, 71.0 MB of additional disk space will be used.\n",
            "Get:1 /content/rclone-v1.69.0-linux-amd64.deb rclone amd64 1.69.0 [23.7 MB]\n",
            "Selecting previously unselected package rclone.\n",
            "(Reading database ... 124926 files and directories currently installed.)\n",
            "Preparing to unpack .../rclone-v1.69.0-linux-amd64.deb ...\n",
            "Unpacking rclone (1.69.0) ...\n",
            "Setting up rclone (1.69.0) ...\n",
            "Processing triggers for man-db (2.10.2-1) ...\n"
          ]
        }
      ]
    },
    {
      "cell_type": "code",
      "source": [
        "# We will need to pass some arguments for this to work,\n",
        "# so make sure we still have the api key\n",
        "# (Note: you need to copy the ENTIRE struct, as the values are read as an array)\n",
        "\n",
        "# Also, make sure to clear the output! We don't want to have\n",
        "# loose api keys floating around the internet!\n",
        "!rclone config"
      ],
      "metadata": {
        "id": "Q09StzydMGfo"
      },
      "execution_count": null,
      "outputs": []
    },
    {
      "cell_type": "code",
      "source": [
        "!sudo mkdir /content/onedrive\n",
        "# Create onedrive directory in colab"
      ],
      "metadata": {
        "id": "YgQYMyR0MJsJ"
      },
      "execution_count": null,
      "outputs": []
    },
    {
      "cell_type": "code",
      "source": [
        "# Install fusermount3 to ensure proper mounting\n",
        "!sudo apt-get -y install fuse3"
      ],
      "metadata": {
        "id": "d14Tx6fQzYRr",
        "colab": {
          "base_uri": "https://localhost:8080/"
        },
        "outputId": "e671613d-6f6d-4f31-aeb3-33c66889b1fa"
      },
      "execution_count": null,
      "outputs": [
        {
          "output_type": "stream",
          "name": "stdout",
          "text": [
            "Reading package lists... Done\n",
            "Building dependency tree... Done\n",
            "Reading state information... Done\n",
            "The following package was automatically installed and is no longer required:\n",
            "  libfuse2\n",
            "Use 'sudo apt autoremove' to remove it.\n",
            "The following additional packages will be installed:\n",
            "  libfuse3-3\n",
            "The following packages will be REMOVED:\n",
            "  fuse\n",
            "The following NEW packages will be installed:\n",
            "  fuse3 libfuse3-3\n",
            "0 upgraded, 2 newly installed, 1 to remove and 20 not upgraded.\n",
            "Need to get 106 kB of archives.\n",
            "After this operation, 264 kB of additional disk space will be used.\n",
            "Get:1 http://archive.ubuntu.com/ubuntu jammy/main amd64 libfuse3-3 amd64 3.10.5-1build1 [81.2 kB]\n",
            "Get:2 http://archive.ubuntu.com/ubuntu jammy/main amd64 fuse3 amd64 3.10.5-1build1 [24.7 kB]\n",
            "Fetched 106 kB in 0s (526 kB/s)\n",
            "debconf: unable to initialize frontend: Dialog\n",
            "debconf: (No usable dialog-like program is installed, so the dialog based frontend cannot be used. at /usr/share/perl5/Debconf/FrontEnd/Dialog.pm line 78, <> line 2.)\n",
            "debconf: falling back to frontend: Readline\n",
            "debconf: unable to initialize frontend: Readline\n",
            "debconf: (This frontend requires a controlling tty.)\n",
            "debconf: falling back to frontend: Teletype\n",
            "dpkg-preconfigure: unable to re-open stdin: \n",
            "(Reading database ... 124931 files and directories currently installed.)\n",
            "Removing fuse (2.9.9-5ubuntu3) ...\n",
            "Selecting previously unselected package libfuse3-3:amd64.\n",
            "(Reading database ... 124921 files and directories currently installed.)\n",
            "Preparing to unpack .../libfuse3-3_3.10.5-1build1_amd64.deb ...\n",
            "Unpacking libfuse3-3:amd64 (3.10.5-1build1) ...\n",
            "Selecting previously unselected package fuse3.\n",
            "Preparing to unpack .../fuse3_3.10.5-1build1_amd64.deb ...\n",
            "Unpacking fuse3 (3.10.5-1build1) ...\n",
            "Setting up libfuse3-3:amd64 (3.10.5-1build1) ...\n",
            "Setting up fuse3 (3.10.5-1build1) ...\n",
            "Installing new version of config file /etc/fuse.conf ...\n",
            "Processing triggers for man-db (2.10.2-1) ...\n",
            "Processing triggers for libc-bin (2.35-0ubuntu3.8) ...\n",
            "/sbin/ldconfig.real: /usr/local/lib/libtbb.so.12 is not a symbolic link\n",
            "\n",
            "/sbin/ldconfig.real: /usr/local/lib/libur_adapter_opencl.so.0 is not a symbolic link\n",
            "\n",
            "/sbin/ldconfig.real: /usr/local/lib/libtbbbind_2_5.so.3 is not a symbolic link\n",
            "\n",
            "/sbin/ldconfig.real: /usr/local/lib/libur_loader.so.0 is not a symbolic link\n",
            "\n",
            "/sbin/ldconfig.real: /usr/local/lib/libhwloc.so.15 is not a symbolic link\n",
            "\n",
            "/sbin/ldconfig.real: /usr/local/lib/libtbbmalloc.so.2 is not a symbolic link\n",
            "\n",
            "/sbin/ldconfig.real: /usr/local/lib/libtbbmalloc_proxy.so.2 is not a symbolic link\n",
            "\n",
            "/sbin/ldconfig.real: /usr/local/lib/libtcm_debug.so.1 is not a symbolic link\n",
            "\n",
            "/sbin/ldconfig.real: /usr/local/lib/libur_adapter_level_zero.so.0 is not a symbolic link\n",
            "\n",
            "/sbin/ldconfig.real: /usr/local/lib/libtbbbind_2_0.so.3 is not a symbolic link\n",
            "\n",
            "/sbin/ldconfig.real: /usr/local/lib/libumf.so.0 is not a symbolic link\n",
            "\n",
            "/sbin/ldconfig.real: /usr/local/lib/libtcm.so.1 is not a symbolic link\n",
            "\n",
            "/sbin/ldconfig.real: /usr/local/lib/libtbbbind.so.3 is not a symbolic link\n",
            "\n"
          ]
        }
      ]
    },
    {
      "cell_type": "code",
      "source": [
        "!nohup rclone --vfs-cache-mode full mount onedrive: /content/onedrive &\n",
        "# After these commands, we should have a onedrive folder in the files section\n",
        "# within colab with everything we need!"
      ],
      "metadata": {
        "colab": {
          "base_uri": "https://localhost:8080/"
        },
        "id": "V-S7k7i7x2w7",
        "outputId": "3b90e61d-8c99-4469-bccf-d32c877c9c42"
      },
      "execution_count": null,
      "outputs": [
        {
          "output_type": "stream",
          "name": "stdout",
          "text": [
            "nohup: appending output to 'nohup.out'\n"
          ]
        }
      ]
    },
    {
      "cell_type": "markdown",
      "source": [
        "## Dataset Setup:\n",
        "What we want to do next is copy the files from the datasets we want to use for creating our first few models.\n",
        "\n",
        "Basically, we are copying the files to the colab environment because we don't want to overwrite what's going on with OneDrive and because we want a \"fresh\" place to store our training results\n",
        "\n",
        "##Word of warning:\n",
        "Doing this will consume disk resources on Colab, make sure you have enough space with the images you copy over!"
      ],
      "metadata": {
        "id": "zGHvT2bKLEEU"
      }
    },
    {
      "cell_type": "code",
      "source": [
        "# Import utilities to take random image sampling and copy to target directory\n",
        "import os\n",
        "import shutil\n",
        "import random\n",
        "\n",
        "# Create a new directory specifically to hold dataset\n",
        "!sudo mkdir /content/SenDsgnTraining"
      ],
      "metadata": {
        "id": "2xY-r6jGNju_"
      },
      "execution_count": null,
      "outputs": []
    },
    {
      "cell_type": "code",
      "source": [
        "# Function made to help with splitting datasets. Run before you attempt\n",
        "# to make any calls!\n",
        "def distributeData(sd, td, n, cls, tgt, splits):\n",
        "  # sd = source_dir, td = target_dir\n",
        "  # n = number of images, cls = image class, tgt = is targeted class\n",
        "\n",
        "  # Processes images\n",
        "  source_path = os.path.join(sd, cls)\n",
        "  images = [f for f in os.listdir(source_path) if f.endswith(\".jpg\")]\n",
        "\n",
        "  # Randomly sample images\n",
        "  selected_images = random.sample(images, min(n, len(images)))\n",
        "\n",
        "  # Distribute images across train, val, test\n",
        "  split_counts = {k: int(v * len(selected_images) / 100) for k, v in splits.items()}\n",
        "  start_idx = 0\n",
        "\n",
        "  for split, count in split_counts.items():\n",
        "    # Ensure split_path goes to either \"none\" or the targeted class\n",
        "    split_path = os.path.join(td, split)\n",
        "    if tgt == cls:\n",
        "        split_path = os.path.join(split_path, cls)\n",
        "    else:\n",
        "        split_path = os.path.join(split_path, \"none\")\n",
        "\n",
        "    for i in range(count):\n",
        "        img_name = f\"{start_idx}_{cls}.jpg\"\n",
        "        shutil.copy(os.path.join(source_path, selected_images[start_idx]), os.path.join(split_path, img_name))\n",
        "        start_idx += 1"
      ],
      "metadata": {
        "id": "O_31pK0EScSP"
      },
      "execution_count": null,
      "outputs": []
    },
    {
      "cell_type": "code",
      "source": [
        "# Dataset path:\n",
        "source_dir = r\"/content/onedrive/Training Images/Training\"\n",
        "target_dir = r\"/content/SenDsgnTraining\"\n",
        "\n",
        "# Set targeted class. This will be used specifically to ensure proper function\n",
        "# for the 2-class setup\n",
        "tgt_cls = \"narrowleaf_cattail\"\n",
        "splits = {\"train\": 80, \"val\": 10, \"test\": 10}  # Percentage split\n",
        "\n",
        "# Create target directory structure\n",
        "for split in splits:\n",
        "    os.makedirs(os.path.join(target_dir, split, tgt_cls), exist_ok=True)\n",
        "    os.makedirs(os.path.join(target_dir, split, \"none\"), exist_ok=True)"
      ],
      "metadata": {
        "id": "ncSguFh66VXO"
      },
      "execution_count": null,
      "outputs": []
    },
    {
      "cell_type": "code",
      "source": [
        "# Process each class individually\n",
        "# Start with narrowleaf cattail\n",
        "n = 2200\n",
        "distributeData(source_dir, target_dir, n, \"narrowleaf_cattail\", tgt_cls, splits)\n",
        "\n",
        "# Now, onto the \"none\" class\n",
        "n = 200\n",
        "distributeData(source_dir, target_dir, n, \"none\", tgt_cls, splits)\n",
        "\n",
        "# Phragmites\n",
        "n = 1000\n",
        "distributeData(source_dir, target_dir, n, \"phragmites\", tgt_cls, splits)\n",
        "\n",
        "# Purple Loosestrife\n",
        "n = 1000\n",
        "distributeData(source_dir, target_dir, n, \"purple_loosestrife\", tgt_cls, splits)\n",
        "\n",
        "# Hopefully, the dataset should now be split into the target and none classes!"
      ],
      "metadata": {
        "id": "wkGvwNXh4eNu"
      },
      "execution_count": null,
      "outputs": []
    },
    {
      "cell_type": "markdown",
      "source": [
        "## Training\n",
        "Now that we've gotten our dataset mounted and our splits taken care of, we can begin training.\n",
        "\n",
        "The best thing about the classification model is that no .yaml file is necessary, as the folder structure is enough to ensure the training, validation, and testing splits are recognized for each class!"
      ],
      "metadata": {
        "id": "upsYpZdeL4cF"
      }
    },
    {
      "cell_type": "code",
      "execution_count": null,
      "metadata": {
        "colab": {
          "base_uri": "https://localhost:8080/"
        },
        "id": "_KoPmRlbHxBP",
        "outputId": "36db6323-b025-4733-ae2d-c2e74b3788bd"
      },
      "outputs": [
        {
          "output_type": "stream",
          "name": "stdout",
          "text": [
            "Ultralytics 8.3.74 🚀 Python-3.11.11 torch-2.5.1+cu124 CUDA:0 (NVIDIA A100-SXM4-40GB, 40507MiB)\n",
            "Setup complete ✅ (12 CPUs, 83.5 GB RAM, 87.5/235.7 GB disk)\n"
          ]
        }
      ],
      "source": [
        "# Install Ultralytics and dependencies\n",
        "%pip install ultralytics  # install\n",
        "from ultralytics import YOLO, checks\n",
        "checks()  # checks"
      ]
    },
    {
      "cell_type": "code",
      "source": [
        "# Load a model\n",
        "model = YOLO(\"yolo11s-cls.pt\")  # Load a pretrained model\n",
        "\n",
        "# Train the model\n",
        "results = model.train(data=target_dir, epochs=75, imgsz=640, batch=32)"
      ],
      "metadata": {
        "colab": {
          "base_uri": "https://localhost:8080/"
        },
        "id": "ontZFaDx8atu",
        "outputId": "376b5b60-26be-4a25-c7d8-c72192b3b5a0"
      },
      "execution_count": null,
      "outputs": [
        {
          "output_type": "stream",
          "name": "stdout",
          "text": [
            "Ultralytics 8.3.74 🚀 Python-3.11.11 torch-2.5.1+cu124 CUDA:0 (NVIDIA A100-SXM4-40GB, 40507MiB)\n",
            "\u001b[34m\u001b[1mengine/trainer: \u001b[0mtask=classify, mode=train, model=yolo11s-cls.pt, data=/content/SenDsgnTraining, epochs=75, time=None, patience=100, batch=32, imgsz=640, save=True, save_period=-1, cache=False, device=None, workers=8, project=None, name=train2, exist_ok=False, pretrained=True, optimizer=auto, verbose=True, seed=0, deterministic=True, single_cls=False, rect=False, cos_lr=False, close_mosaic=10, resume=False, amp=True, fraction=1.0, profile=False, freeze=None, multi_scale=False, overlap_mask=True, mask_ratio=4, dropout=0.0, val=True, split=val, save_json=False, save_hybrid=False, conf=None, iou=0.7, max_det=300, half=False, dnn=False, plots=True, source=None, vid_stride=1, stream_buffer=False, visualize=False, augment=False, agnostic_nms=False, classes=None, retina_masks=False, embed=None, show=False, save_frames=False, save_txt=False, save_conf=False, save_crop=False, show_labels=True, show_conf=True, show_boxes=True, line_width=None, format=torchscript, keras=False, optimize=False, int8=False, dynamic=False, simplify=True, opset=None, workspace=None, nms=False, lr0=0.01, lrf=0.01, momentum=0.937, weight_decay=0.0005, warmup_epochs=3.0, warmup_momentum=0.8, warmup_bias_lr=0.1, box=7.5, cls=0.5, dfl=1.5, pose=12.0, kobj=1.0, nbs=64, hsv_h=0.015, hsv_s=0.7, hsv_v=0.4, degrees=0.0, translate=0.1, scale=0.5, shear=0.0, perspective=0.0, flipud=0.0, fliplr=0.5, bgr=0.0, mosaic=1.0, mixup=0.0, copy_paste=0.0, copy_paste_mode=flip, auto_augment=randaugment, erasing=0.4, crop_fraction=1.0, cfg=None, tracker=botsort.yaml, save_dir=runs/classify/train2\n",
            "\u001b[34m\u001b[1mtrain:\u001b[0m /content/SenDsgnTraining/train... found 2142 images in 2 classes ✅ \n",
            "\u001b[34m\u001b[1mval:\u001b[0m /content/SenDsgnTraining/val... found 266 images in 2 classes ✅ \n",
            "\u001b[34m\u001b[1mtest:\u001b[0m /content/SenDsgnTraining/test... found 266 images in 2 classes ✅ \n",
            "Overriding model.yaml nc=80 with nc=2\n",
            "\n",
            "                   from  n    params  module                                       arguments                     \n",
            "  0                  -1  1       928  ultralytics.nn.modules.conv.Conv             [3, 32, 3, 2]                 \n",
            "  1                  -1  1     18560  ultralytics.nn.modules.conv.Conv             [32, 64, 3, 2]                \n",
            "  2                  -1  1     26080  ultralytics.nn.modules.block.C3k2            [64, 128, 1, False, 0.25]     \n",
            "  3                  -1  1    147712  ultralytics.nn.modules.conv.Conv             [128, 128, 3, 2]              \n",
            "  4                  -1  1    103360  ultralytics.nn.modules.block.C3k2            [128, 256, 1, False, 0.25]    \n",
            "  5                  -1  1    590336  ultralytics.nn.modules.conv.Conv             [256, 256, 3, 2]              \n",
            "  6                  -1  1    346112  ultralytics.nn.modules.block.C3k2            [256, 256, 1, True]           \n",
            "  7                  -1  1   1180672  ultralytics.nn.modules.conv.Conv             [256, 512, 3, 2]              \n",
            "  8                  -1  1   1380352  ultralytics.nn.modules.block.C3k2            [512, 512, 1, True]           \n",
            "  9                  -1  1    990976  ultralytics.nn.modules.block.C2PSA           [512, 512, 1]                 \n",
            " 10                  -1  1    660482  ultralytics.nn.modules.head.Classify         [512, 2]                      \n",
            "YOLO11s-cls summary: 151 layers, 5,445,570 parameters, 5,445,570 gradients, 12.1 GFLOPs\n",
            "Transferred 234/236 items from pretrained weights\n",
            "\u001b[34m\u001b[1mTensorBoard: \u001b[0mStart with 'tensorboard --logdir runs/classify/train2', view at http://localhost:6006/\n",
            "\u001b[34m\u001b[1mAMP: \u001b[0mrunning Automatic Mixed Precision (AMP) checks...\n",
            "\u001b[34m\u001b[1mAMP: \u001b[0mchecks passed ✅\n"
          ]
        },
        {
          "output_type": "stream",
          "name": "stderr",
          "text": [
            "\u001b[34m\u001b[1mtrain: \u001b[0mScanning /content/SenDsgnTraining/train... 2142 images, 0 corrupt: 100%|██████████| 2142/2142 [00:00<?, ?it/s]\n",
            "\u001b[34m\u001b[1mval: \u001b[0mScanning /content/SenDsgnTraining/val... 266 images, 0 corrupt: 100%|██████████| 266/266 [00:00<?, ?it/s]\n"
          ]
        },
        {
          "output_type": "stream",
          "name": "stdout",
          "text": [
            "\u001b[34m\u001b[1moptimizer:\u001b[0m 'optimizer=auto' found, ignoring 'lr0=0.01' and 'momentum=0.937' and determining best 'optimizer', 'lr0' and 'momentum' automatically... \n",
            "\u001b[34m\u001b[1moptimizer:\u001b[0m AdamW(lr=0.001667, momentum=0.9) with parameter groups 39 weight(decay=0.0), 40 weight(decay=0.0005), 40 bias(decay=0.0)\n",
            "\u001b[34m\u001b[1mTensorBoard: \u001b[0mmodel graph visualization added ✅\n",
            "Image sizes 640 train, 640 val\n",
            "Using 8 dataloader workers\n",
            "Logging results to \u001b[1mruns/classify/train2\u001b[0m\n",
            "Starting training for 75 epochs...\n",
            "\n",
            "      Epoch    GPU_mem       loss  Instances       Size\n"
          ]
        },
        {
          "output_type": "stream",
          "name": "stderr",
          "text": [
            "       1/75      23.7G     0.2467         30        640: 100%|██████████| 67/67 [02:17<00:00,  2.06s/it]\n",
            "               classes   top1_acc   top5_acc: 100%|██████████| 5/5 [00:00<00:00, 13.98it/s]"
          ]
        },
        {
          "output_type": "stream",
          "name": "stdout",
          "text": [
            "                   all      0.966          1\n"
          ]
        },
        {
          "output_type": "stream",
          "name": "stderr",
          "text": [
            "\n"
          ]
        },
        {
          "output_type": "stream",
          "name": "stdout",
          "text": [
            "\n",
            "      Epoch    GPU_mem       loss  Instances       Size\n"
          ]
        },
        {
          "output_type": "stream",
          "name": "stderr",
          "text": [
            "       2/75      7.51G     0.1348         30        640: 100%|██████████| 67/67 [01:47<00:00,  1.60s/it]\n",
            "               classes   top1_acc   top5_acc: 100%|██████████| 5/5 [00:00<00:00, 19.48it/s]"
          ]
        },
        {
          "output_type": "stream",
          "name": "stdout",
          "text": [
            "                   all       0.94          1\n"
          ]
        },
        {
          "output_type": "stream",
          "name": "stderr",
          "text": [
            "\n"
          ]
        },
        {
          "output_type": "stream",
          "name": "stdout",
          "text": [
            "\n",
            "      Epoch    GPU_mem       loss  Instances       Size\n"
          ]
        },
        {
          "output_type": "stream",
          "name": "stderr",
          "text": [
            "       3/75      7.52G     0.2023         30        640: 100%|██████████| 67/67 [01:44<00:00,  1.56s/it]\n",
            "               classes   top1_acc   top5_acc: 100%|██████████| 5/5 [00:00<00:00, 19.64it/s]"
          ]
        },
        {
          "output_type": "stream",
          "name": "stdout",
          "text": [
            "                   all      0.917          1\n"
          ]
        },
        {
          "output_type": "stream",
          "name": "stderr",
          "text": [
            "\n"
          ]
        },
        {
          "output_type": "stream",
          "name": "stdout",
          "text": [
            "\n",
            "      Epoch    GPU_mem       loss  Instances       Size\n"
          ]
        },
        {
          "output_type": "stream",
          "name": "stderr",
          "text": [
            "       4/75      7.51G     0.1501         30        640: 100%|██████████| 67/67 [01:57<00:00,  1.75s/it]\n",
            "               classes   top1_acc   top5_acc: 100%|██████████| 5/5 [00:00<00:00, 12.81it/s]"
          ]
        },
        {
          "output_type": "stream",
          "name": "stdout",
          "text": [
            "                   all      0.868          1\n"
          ]
        },
        {
          "output_type": "stream",
          "name": "stderr",
          "text": [
            "\n"
          ]
        },
        {
          "output_type": "stream",
          "name": "stdout",
          "text": [
            "\n",
            "      Epoch    GPU_mem       loss  Instances       Size\n"
          ]
        },
        {
          "output_type": "stream",
          "name": "stderr",
          "text": [
            "       5/75      7.52G     0.1398         30        640: 100%|██████████| 67/67 [01:40<00:00,  1.49s/it]\n",
            "               classes   top1_acc   top5_acc: 100%|██████████| 5/5 [00:00<00:00, 10.33it/s]"
          ]
        },
        {
          "output_type": "stream",
          "name": "stdout",
          "text": [
            "                   all      0.959          1\n"
          ]
        },
        {
          "output_type": "stream",
          "name": "stderr",
          "text": [
            "\n"
          ]
        },
        {
          "output_type": "stream",
          "name": "stdout",
          "text": [
            "\n",
            "      Epoch    GPU_mem       loss  Instances       Size\n"
          ]
        },
        {
          "output_type": "stream",
          "name": "stderr",
          "text": [
            "       6/75      7.51G     0.1206         30        640: 100%|██████████| 67/67 [01:48<00:00,  1.62s/it]\n",
            "               classes   top1_acc   top5_acc: 100%|██████████| 5/5 [00:00<00:00, 14.06it/s]"
          ]
        },
        {
          "output_type": "stream",
          "name": "stdout",
          "text": [
            "                   all      0.962          1\n"
          ]
        },
        {
          "output_type": "stream",
          "name": "stderr",
          "text": [
            "\n"
          ]
        },
        {
          "output_type": "stream",
          "name": "stdout",
          "text": [
            "\n",
            "      Epoch    GPU_mem       loss  Instances       Size\n"
          ]
        },
        {
          "output_type": "stream",
          "name": "stderr",
          "text": [
            "       7/75      7.52G     0.1294         30        640: 100%|██████████| 67/67 [01:53<00:00,  1.69s/it]\n",
            "               classes   top1_acc   top5_acc: 100%|██████████| 5/5 [00:00<00:00, 13.69it/s]"
          ]
        },
        {
          "output_type": "stream",
          "name": "stdout",
          "text": [
            "                   all      0.951          1\n"
          ]
        },
        {
          "output_type": "stream",
          "name": "stderr",
          "text": [
            "\n"
          ]
        },
        {
          "output_type": "stream",
          "name": "stdout",
          "text": [
            "\n",
            "      Epoch    GPU_mem       loss  Instances       Size\n"
          ]
        },
        {
          "output_type": "stream",
          "name": "stderr",
          "text": [
            "       8/75      7.51G    0.09888         30        640: 100%|██████████| 67/67 [01:44<00:00,  1.56s/it]\n",
            "               classes   top1_acc   top5_acc: 100%|██████████| 5/5 [00:00<00:00, 18.55it/s]"
          ]
        },
        {
          "output_type": "stream",
          "name": "stdout",
          "text": [
            "                   all      0.966          1\n"
          ]
        },
        {
          "output_type": "stream",
          "name": "stderr",
          "text": [
            "\n"
          ]
        },
        {
          "output_type": "stream",
          "name": "stdout",
          "text": [
            "\n",
            "      Epoch    GPU_mem       loss  Instances       Size\n"
          ]
        },
        {
          "output_type": "stream",
          "name": "stderr",
          "text": [
            "       9/75      7.52G    0.08047         30        640: 100%|██████████| 67/67 [01:42<00:00,  1.53s/it]\n",
            "               classes   top1_acc   top5_acc: 100%|██████████| 5/5 [00:00<00:00, 20.20it/s]"
          ]
        },
        {
          "output_type": "stream",
          "name": "stdout",
          "text": [
            "                   all      0.966          1\n"
          ]
        },
        {
          "output_type": "stream",
          "name": "stderr",
          "text": [
            "\n"
          ]
        },
        {
          "output_type": "stream",
          "name": "stdout",
          "text": [
            "\n",
            "      Epoch    GPU_mem       loss  Instances       Size\n"
          ]
        },
        {
          "output_type": "stream",
          "name": "stderr",
          "text": [
            "      10/75      7.51G    0.08345         30        640: 100%|██████████| 67/67 [01:46<00:00,  1.59s/it]\n",
            "               classes   top1_acc   top5_acc: 100%|██████████| 5/5 [00:00<00:00, 17.51it/s]"
          ]
        },
        {
          "output_type": "stream",
          "name": "stdout",
          "text": [
            "                   all      0.966          1\n"
          ]
        },
        {
          "output_type": "stream",
          "name": "stderr",
          "text": [
            "\n"
          ]
        },
        {
          "output_type": "stream",
          "name": "stdout",
          "text": [
            "\n",
            "      Epoch    GPU_mem       loss  Instances       Size\n"
          ]
        },
        {
          "output_type": "stream",
          "name": "stderr",
          "text": [
            "      11/75      7.52G    0.08967         30        640: 100%|██████████| 67/67 [01:57<00:00,  1.75s/it]\n",
            "               classes   top1_acc   top5_acc: 100%|██████████| 5/5 [00:00<00:00, 20.00it/s]"
          ]
        },
        {
          "output_type": "stream",
          "name": "stdout",
          "text": [
            "                   all      0.974          1\n"
          ]
        },
        {
          "output_type": "stream",
          "name": "stderr",
          "text": [
            "\n"
          ]
        },
        {
          "output_type": "stream",
          "name": "stdout",
          "text": [
            "\n",
            "      Epoch    GPU_mem       loss  Instances       Size\n"
          ]
        },
        {
          "output_type": "stream",
          "name": "stderr",
          "text": [
            "      12/75      7.51G    0.08856         30        640: 100%|██████████| 67/67 [01:46<00:00,  1.58s/it]\n",
            "               classes   top1_acc   top5_acc: 100%|██████████| 5/5 [00:00<00:00, 20.08it/s]"
          ]
        },
        {
          "output_type": "stream",
          "name": "stdout",
          "text": [
            "                   all      0.962          1\n"
          ]
        },
        {
          "output_type": "stream",
          "name": "stderr",
          "text": [
            "\n"
          ]
        },
        {
          "output_type": "stream",
          "name": "stdout",
          "text": [
            "\n",
            "      Epoch    GPU_mem       loss  Instances       Size\n"
          ]
        },
        {
          "output_type": "stream",
          "name": "stderr",
          "text": [
            "      13/75      7.52G    0.08951         30        640: 100%|██████████| 67/67 [02:00<00:00,  1.79s/it]\n",
            "               classes   top1_acc   top5_acc: 100%|██████████| 5/5 [00:00<00:00, 12.84it/s]"
          ]
        },
        {
          "output_type": "stream",
          "name": "stdout",
          "text": [
            "                   all      0.974          1\n"
          ]
        },
        {
          "output_type": "stream",
          "name": "stderr",
          "text": [
            "\n"
          ]
        },
        {
          "output_type": "stream",
          "name": "stdout",
          "text": [
            "\n",
            "      Epoch    GPU_mem       loss  Instances       Size\n"
          ]
        },
        {
          "output_type": "stream",
          "name": "stderr",
          "text": [
            "      14/75      7.51G     0.0676         30        640: 100%|██████████| 67/67 [01:40<00:00,  1.50s/it]\n",
            "               classes   top1_acc   top5_acc: 100%|██████████| 5/5 [00:00<00:00, 11.93it/s]"
          ]
        },
        {
          "output_type": "stream",
          "name": "stdout",
          "text": [
            "                   all      0.974          1\n"
          ]
        },
        {
          "output_type": "stream",
          "name": "stderr",
          "text": [
            "\n"
          ]
        },
        {
          "output_type": "stream",
          "name": "stdout",
          "text": [
            "\n",
            "      Epoch    GPU_mem       loss  Instances       Size\n"
          ]
        },
        {
          "output_type": "stream",
          "name": "stderr",
          "text": [
            "      15/75      7.52G    0.07458         30        640: 100%|██████████| 67/67 [01:47<00:00,  1.60s/it]\n",
            "               classes   top1_acc   top5_acc: 100%|██████████| 5/5 [00:00<00:00,  9.36it/s]"
          ]
        },
        {
          "output_type": "stream",
          "name": "stdout",
          "text": [
            "                   all      0.974          1\n"
          ]
        },
        {
          "output_type": "stream",
          "name": "stderr",
          "text": [
            "\n"
          ]
        },
        {
          "output_type": "stream",
          "name": "stdout",
          "text": [
            "\n",
            "      Epoch    GPU_mem       loss  Instances       Size\n"
          ]
        },
        {
          "output_type": "stream",
          "name": "stderr",
          "text": [
            "      16/75      7.51G    0.07512         30        640: 100%|██████████| 67/67 [01:50<00:00,  1.64s/it]\n",
            "               classes   top1_acc   top5_acc: 100%|██████████| 5/5 [00:00<00:00, 20.57it/s]"
          ]
        },
        {
          "output_type": "stream",
          "name": "stdout",
          "text": [
            "                   all       0.97          1\n"
          ]
        },
        {
          "output_type": "stream",
          "name": "stderr",
          "text": [
            "\n"
          ]
        },
        {
          "output_type": "stream",
          "name": "stdout",
          "text": [
            "\n",
            "      Epoch    GPU_mem       loss  Instances       Size\n"
          ]
        },
        {
          "output_type": "stream",
          "name": "stderr",
          "text": [
            "      17/75      7.52G    0.07022         30        640: 100%|██████████| 67/67 [01:44<00:00,  1.56s/it]\n",
            "               classes   top1_acc   top5_acc: 100%|██████████| 5/5 [00:00<00:00, 10.00it/s]"
          ]
        },
        {
          "output_type": "stream",
          "name": "stdout",
          "text": [
            "                   all      0.977          1\n"
          ]
        },
        {
          "output_type": "stream",
          "name": "stderr",
          "text": [
            "\n"
          ]
        },
        {
          "output_type": "stream",
          "name": "stdout",
          "text": [
            "\n",
            "      Epoch    GPU_mem       loss  Instances       Size\n"
          ]
        },
        {
          "output_type": "stream",
          "name": "stderr",
          "text": [
            "      18/75      7.51G    0.07363         30        640: 100%|██████████| 67/67 [01:46<00:00,  1.58s/it]\n",
            "               classes   top1_acc   top5_acc: 100%|██████████| 5/5 [00:00<00:00, 19.95it/s]"
          ]
        },
        {
          "output_type": "stream",
          "name": "stdout",
          "text": [
            "                   all       0.97          1\n"
          ]
        },
        {
          "output_type": "stream",
          "name": "stderr",
          "text": [
            "\n"
          ]
        },
        {
          "output_type": "stream",
          "name": "stdout",
          "text": [
            "\n",
            "      Epoch    GPU_mem       loss  Instances       Size\n"
          ]
        },
        {
          "output_type": "stream",
          "name": "stderr",
          "text": [
            "      19/75      7.52G    0.05213         30        640: 100%|██████████| 67/67 [01:44<00:00,  1.55s/it]\n",
            "               classes   top1_acc   top5_acc: 100%|██████████| 5/5 [00:00<00:00, 17.59it/s]"
          ]
        },
        {
          "output_type": "stream",
          "name": "stdout",
          "text": [
            "                   all      0.974          1\n"
          ]
        },
        {
          "output_type": "stream",
          "name": "stderr",
          "text": [
            "\n"
          ]
        },
        {
          "output_type": "stream",
          "name": "stdout",
          "text": [
            "\n",
            "      Epoch    GPU_mem       loss  Instances       Size\n"
          ]
        },
        {
          "output_type": "stream",
          "name": "stderr",
          "text": [
            "      20/75      7.51G    0.05326         30        640: 100%|██████████| 67/67 [01:54<00:00,  1.72s/it]\n",
            "               classes   top1_acc   top5_acc: 100%|██████████| 5/5 [00:00<00:00, 12.02it/s]"
          ]
        },
        {
          "output_type": "stream",
          "name": "stdout",
          "text": [
            "                   all      0.981          1\n"
          ]
        },
        {
          "output_type": "stream",
          "name": "stderr",
          "text": [
            "\n"
          ]
        },
        {
          "output_type": "stream",
          "name": "stdout",
          "text": [
            "\n",
            "      Epoch    GPU_mem       loss  Instances       Size\n"
          ]
        },
        {
          "output_type": "stream",
          "name": "stderr",
          "text": [
            "      21/75      7.52G    0.05374         30        640: 100%|██████████| 67/67 [01:49<00:00,  1.64s/it]\n",
            "               classes   top1_acc   top5_acc: 100%|██████████| 5/5 [00:00<00:00, 17.36it/s]"
          ]
        },
        {
          "output_type": "stream",
          "name": "stdout",
          "text": [
            "                   all      0.977          1\n"
          ]
        },
        {
          "output_type": "stream",
          "name": "stderr",
          "text": [
            "\n"
          ]
        },
        {
          "output_type": "stream",
          "name": "stdout",
          "text": [
            "\n",
            "      Epoch    GPU_mem       loss  Instances       Size\n"
          ]
        },
        {
          "output_type": "stream",
          "name": "stderr",
          "text": [
            "      22/75      7.51G    0.05537         30        640: 100%|██████████| 67/67 [01:41<00:00,  1.52s/it]\n",
            "               classes   top1_acc   top5_acc: 100%|██████████| 5/5 [00:00<00:00, 19.64it/s]"
          ]
        },
        {
          "output_type": "stream",
          "name": "stdout",
          "text": [
            "                   all      0.966          1\n"
          ]
        },
        {
          "output_type": "stream",
          "name": "stderr",
          "text": [
            "\n"
          ]
        },
        {
          "output_type": "stream",
          "name": "stdout",
          "text": [
            "\n",
            "      Epoch    GPU_mem       loss  Instances       Size\n"
          ]
        },
        {
          "output_type": "stream",
          "name": "stderr",
          "text": [
            "      23/75      7.52G    0.04998         30        640: 100%|██████████| 67/67 [01:53<00:00,  1.69s/it]\n",
            "               classes   top1_acc   top5_acc: 100%|██████████| 5/5 [00:00<00:00, 11.18it/s]"
          ]
        },
        {
          "output_type": "stream",
          "name": "stdout",
          "text": [
            "                   all      0.977          1\n"
          ]
        },
        {
          "output_type": "stream",
          "name": "stderr",
          "text": [
            "\n"
          ]
        },
        {
          "output_type": "stream",
          "name": "stdout",
          "text": [
            "\n",
            "      Epoch    GPU_mem       loss  Instances       Size\n"
          ]
        },
        {
          "output_type": "stream",
          "name": "stderr",
          "text": [
            "      24/75      7.51G    0.06876         30        640: 100%|██████████| 67/67 [01:49<00:00,  1.63s/it]\n",
            "               classes   top1_acc   top5_acc: 100%|██████████| 5/5 [00:00<00:00, 20.49it/s]"
          ]
        },
        {
          "output_type": "stream",
          "name": "stdout",
          "text": [
            "                   all      0.981          1\n"
          ]
        },
        {
          "output_type": "stream",
          "name": "stderr",
          "text": [
            "\n"
          ]
        },
        {
          "output_type": "stream",
          "name": "stdout",
          "text": [
            "\n",
            "      Epoch    GPU_mem       loss  Instances       Size\n"
          ]
        },
        {
          "output_type": "stream",
          "name": "stderr",
          "text": [
            "      25/75      7.52G    0.05283         30        640: 100%|██████████| 67/67 [01:48<00:00,  1.61s/it]\n",
            "               classes   top1_acc   top5_acc: 100%|██████████| 5/5 [00:00<00:00, 13.25it/s]"
          ]
        },
        {
          "output_type": "stream",
          "name": "stdout",
          "text": [
            "                   all      0.974          1\n"
          ]
        },
        {
          "output_type": "stream",
          "name": "stderr",
          "text": [
            "\n"
          ]
        },
        {
          "output_type": "stream",
          "name": "stdout",
          "text": [
            "\n",
            "      Epoch    GPU_mem       loss  Instances       Size\n"
          ]
        },
        {
          "output_type": "stream",
          "name": "stderr",
          "text": [
            "      26/75      7.51G    0.05554         30        640: 100%|██████████| 67/67 [01:52<00:00,  1.68s/it]\n",
            "               classes   top1_acc   top5_acc: 100%|██████████| 5/5 [00:00<00:00, 12.51it/s]"
          ]
        },
        {
          "output_type": "stream",
          "name": "stdout",
          "text": [
            "                   all      0.977          1\n"
          ]
        },
        {
          "output_type": "stream",
          "name": "stderr",
          "text": [
            "\n"
          ]
        },
        {
          "output_type": "stream",
          "name": "stdout",
          "text": [
            "\n",
            "      Epoch    GPU_mem       loss  Instances       Size\n"
          ]
        },
        {
          "output_type": "stream",
          "name": "stderr",
          "text": [
            "      27/75      7.52G     0.0483         30        640: 100%|██████████| 67/67 [01:38<00:00,  1.48s/it]\n",
            "               classes   top1_acc   top5_acc: 100%|██████████| 5/5 [00:00<00:00, 16.52it/s]"
          ]
        },
        {
          "output_type": "stream",
          "name": "stdout",
          "text": [
            "                   all      0.977          1\n"
          ]
        },
        {
          "output_type": "stream",
          "name": "stderr",
          "text": [
            "\n"
          ]
        },
        {
          "output_type": "stream",
          "name": "stdout",
          "text": [
            "\n",
            "      Epoch    GPU_mem       loss  Instances       Size\n"
          ]
        },
        {
          "output_type": "stream",
          "name": "stderr",
          "text": [
            "      28/75      7.51G    0.05584         30        640: 100%|██████████| 67/67 [01:47<00:00,  1.61s/it]\n",
            "               classes   top1_acc   top5_acc: 100%|██████████| 5/5 [00:00<00:00, 11.78it/s]"
          ]
        },
        {
          "output_type": "stream",
          "name": "stdout",
          "text": [
            "                   all      0.977          1\n"
          ]
        },
        {
          "output_type": "stream",
          "name": "stderr",
          "text": [
            "\n"
          ]
        },
        {
          "output_type": "stream",
          "name": "stdout",
          "text": [
            "\n",
            "      Epoch    GPU_mem       loss  Instances       Size\n"
          ]
        },
        {
          "output_type": "stream",
          "name": "stderr",
          "text": [
            "      29/75      7.52G      0.052         30        640: 100%|██████████| 67/67 [01:53<00:00,  1.70s/it]\n",
            "               classes   top1_acc   top5_acc: 100%|██████████| 5/5 [00:00<00:00, 18.40it/s]"
          ]
        },
        {
          "output_type": "stream",
          "name": "stdout",
          "text": [
            "                   all      0.981          1\n"
          ]
        },
        {
          "output_type": "stream",
          "name": "stderr",
          "text": [
            "\n"
          ]
        },
        {
          "output_type": "stream",
          "name": "stdout",
          "text": [
            "\n",
            "      Epoch    GPU_mem       loss  Instances       Size\n"
          ]
        },
        {
          "output_type": "stream",
          "name": "stderr",
          "text": [
            "      30/75      7.51G    0.05675         30        640: 100%|██████████| 67/67 [01:47<00:00,  1.60s/it]\n",
            "               classes   top1_acc   top5_acc: 100%|██████████| 5/5 [00:00<00:00, 14.52it/s]\n"
          ]
        },
        {
          "output_type": "stream",
          "name": "stdout",
          "text": [
            "                   all      0.977          1\n",
            "\n",
            "      Epoch    GPU_mem       loss  Instances       Size\n"
          ]
        },
        {
          "output_type": "stream",
          "name": "stderr",
          "text": [
            "      31/75      7.52G     0.0428         30        640: 100%|██████████| 67/67 [01:41<00:00,  1.51s/it]\n",
            "               classes   top1_acc   top5_acc: 100%|██████████| 5/5 [00:00<00:00, 11.97it/s]"
          ]
        },
        {
          "output_type": "stream",
          "name": "stdout",
          "text": [
            "                   all      0.981          1\n"
          ]
        },
        {
          "output_type": "stream",
          "name": "stderr",
          "text": [
            "\n"
          ]
        },
        {
          "output_type": "stream",
          "name": "stdout",
          "text": [
            "\n",
            "      Epoch    GPU_mem       loss  Instances       Size\n"
          ]
        },
        {
          "output_type": "stream",
          "name": "stderr",
          "text": [
            "      32/75      7.51G    0.03826         30        640: 100%|██████████| 67/67 [01:45<00:00,  1.58s/it]\n",
            "               classes   top1_acc   top5_acc: 100%|██████████| 5/5 [00:00<00:00, 10.94it/s]"
          ]
        },
        {
          "output_type": "stream",
          "name": "stdout",
          "text": [
            "                   all      0.974          1\n"
          ]
        },
        {
          "output_type": "stream",
          "name": "stderr",
          "text": [
            "\n"
          ]
        },
        {
          "output_type": "stream",
          "name": "stdout",
          "text": [
            "\n",
            "      Epoch    GPU_mem       loss  Instances       Size\n"
          ]
        },
        {
          "output_type": "stream",
          "name": "stderr",
          "text": [
            "      33/75      7.52G    0.05007         30        640: 100%|██████████| 67/67 [01:53<00:00,  1.70s/it]\n",
            "               classes   top1_acc   top5_acc: 100%|██████████| 5/5 [00:00<00:00, 20.20it/s]"
          ]
        },
        {
          "output_type": "stream",
          "name": "stdout",
          "text": [
            "                   all      0.985          1\n"
          ]
        },
        {
          "output_type": "stream",
          "name": "stderr",
          "text": [
            "\n"
          ]
        },
        {
          "output_type": "stream",
          "name": "stdout",
          "text": [
            "\n",
            "      Epoch    GPU_mem       loss  Instances       Size\n"
          ]
        },
        {
          "output_type": "stream",
          "name": "stderr",
          "text": [
            "      34/75      7.51G    0.03864         30        640: 100%|██████████| 67/67 [01:50<00:00,  1.66s/it]\n",
            "               classes   top1_acc   top5_acc: 100%|██████████| 5/5 [00:00<00:00, 13.31it/s]"
          ]
        },
        {
          "output_type": "stream",
          "name": "stdout",
          "text": [
            "                   all      0.985          1\n"
          ]
        },
        {
          "output_type": "stream",
          "name": "stderr",
          "text": [
            "\n"
          ]
        },
        {
          "output_type": "stream",
          "name": "stdout",
          "text": [
            "\n",
            "      Epoch    GPU_mem       loss  Instances       Size\n"
          ]
        },
        {
          "output_type": "stream",
          "name": "stderr",
          "text": [
            "      35/75      7.52G    0.05404         30        640: 100%|██████████| 67/67 [01:44<00:00,  1.56s/it]\n",
            "               classes   top1_acc   top5_acc: 100%|██████████| 5/5 [00:00<00:00, 19.75it/s]"
          ]
        },
        {
          "output_type": "stream",
          "name": "stdout",
          "text": [
            "                   all      0.977          1\n"
          ]
        },
        {
          "output_type": "stream",
          "name": "stderr",
          "text": [
            "\n"
          ]
        },
        {
          "output_type": "stream",
          "name": "stdout",
          "text": [
            "\n",
            "      Epoch    GPU_mem       loss  Instances       Size\n"
          ]
        },
        {
          "output_type": "stream",
          "name": "stderr",
          "text": [
            "      36/75      7.51G     0.0425         30        640: 100%|██████████| 67/67 [01:52<00:00,  1.69s/it]\n",
            "               classes   top1_acc   top5_acc: 100%|██████████| 5/5 [00:00<00:00, 17.33it/s]"
          ]
        },
        {
          "output_type": "stream",
          "name": "stdout",
          "text": [
            "                   all      0.985          1\n"
          ]
        },
        {
          "output_type": "stream",
          "name": "stderr",
          "text": [
            "\n"
          ]
        },
        {
          "output_type": "stream",
          "name": "stdout",
          "text": [
            "\n",
            "      Epoch    GPU_mem       loss  Instances       Size\n"
          ]
        },
        {
          "output_type": "stream",
          "name": "stderr",
          "text": [
            "      37/75      7.52G    0.03982         30        640: 100%|██████████| 67/67 [01:48<00:00,  1.62s/it]\n",
            "               classes   top1_acc   top5_acc: 100%|██████████| 5/5 [00:00<00:00, 11.33it/s]"
          ]
        },
        {
          "output_type": "stream",
          "name": "stdout",
          "text": [
            "                   all      0.989          1\n"
          ]
        },
        {
          "output_type": "stream",
          "name": "stderr",
          "text": [
            "\n"
          ]
        },
        {
          "output_type": "stream",
          "name": "stdout",
          "text": [
            "\n",
            "      Epoch    GPU_mem       loss  Instances       Size\n"
          ]
        },
        {
          "output_type": "stream",
          "name": "stderr",
          "text": [
            "      38/75      7.51G    0.04218         30        640: 100%|██████████| 67/67 [01:42<00:00,  1.52s/it]\n",
            "               classes   top1_acc   top5_acc: 100%|██████████| 5/5 [00:00<00:00, 17.23it/s]"
          ]
        },
        {
          "output_type": "stream",
          "name": "stdout",
          "text": [
            "                   all      0.977          1\n"
          ]
        },
        {
          "output_type": "stream",
          "name": "stderr",
          "text": [
            "\n"
          ]
        },
        {
          "output_type": "stream",
          "name": "stdout",
          "text": [
            "\n",
            "      Epoch    GPU_mem       loss  Instances       Size\n"
          ]
        },
        {
          "output_type": "stream",
          "name": "stderr",
          "text": [
            "      39/75      7.52G    0.03264         30        640: 100%|██████████| 67/67 [01:51<00:00,  1.67s/it]\n",
            "               classes   top1_acc   top5_acc: 100%|██████████| 5/5 [00:00<00:00, 11.69it/s]"
          ]
        },
        {
          "output_type": "stream",
          "name": "stdout",
          "text": [
            "                   all      0.977          1\n"
          ]
        },
        {
          "output_type": "stream",
          "name": "stderr",
          "text": [
            "\n"
          ]
        },
        {
          "output_type": "stream",
          "name": "stdout",
          "text": [
            "\n",
            "      Epoch    GPU_mem       loss  Instances       Size\n"
          ]
        },
        {
          "output_type": "stream",
          "name": "stderr",
          "text": [
            "      40/75      7.51G     0.0483         30        640: 100%|██████████| 67/67 [01:44<00:00,  1.56s/it]\n",
            "               classes   top1_acc   top5_acc: 100%|██████████| 5/5 [00:00<00:00, 17.92it/s]"
          ]
        },
        {
          "output_type": "stream",
          "name": "stdout",
          "text": [
            "                   all      0.981          1\n"
          ]
        },
        {
          "output_type": "stream",
          "name": "stderr",
          "text": [
            "\n"
          ]
        },
        {
          "output_type": "stream",
          "name": "stdout",
          "text": [
            "\n",
            "      Epoch    GPU_mem       loss  Instances       Size\n"
          ]
        },
        {
          "output_type": "stream",
          "name": "stderr",
          "text": [
            "      41/75      7.52G    0.04264         30        640: 100%|██████████| 67/67 [01:47<00:00,  1.61s/it]\n",
            "               classes   top1_acc   top5_acc: 100%|██████████| 5/5 [00:00<00:00, 10.13it/s]"
          ]
        },
        {
          "output_type": "stream",
          "name": "stdout",
          "text": [
            "                   all      0.989          1\n"
          ]
        },
        {
          "output_type": "stream",
          "name": "stderr",
          "text": [
            "\n"
          ]
        },
        {
          "output_type": "stream",
          "name": "stdout",
          "text": [
            "\n",
            "      Epoch    GPU_mem       loss  Instances       Size\n"
          ]
        },
        {
          "output_type": "stream",
          "name": "stderr",
          "text": [
            "      42/75      7.51G    0.03038         30        640: 100%|██████████| 67/67 [01:49<00:00,  1.63s/it]\n",
            "               classes   top1_acc   top5_acc: 100%|██████████| 5/5 [00:00<00:00, 18.70it/s]"
          ]
        },
        {
          "output_type": "stream",
          "name": "stdout",
          "text": [
            "                   all      0.989          1\n"
          ]
        },
        {
          "output_type": "stream",
          "name": "stderr",
          "text": [
            "\n"
          ]
        },
        {
          "output_type": "stream",
          "name": "stdout",
          "text": [
            "\n",
            "      Epoch    GPU_mem       loss  Instances       Size\n"
          ]
        },
        {
          "output_type": "stream",
          "name": "stderr",
          "text": [
            "      43/75      7.52G    0.03418         30        640: 100%|██████████| 67/67 [01:46<00:00,  1.59s/it]\n",
            "               classes   top1_acc   top5_acc: 100%|██████████| 5/5 [00:00<00:00, 10.99it/s]"
          ]
        },
        {
          "output_type": "stream",
          "name": "stdout",
          "text": [
            "                   all      0.985          1\n"
          ]
        },
        {
          "output_type": "stream",
          "name": "stderr",
          "text": [
            "\n"
          ]
        },
        {
          "output_type": "stream",
          "name": "stdout",
          "text": [
            "\n",
            "      Epoch    GPU_mem       loss  Instances       Size\n"
          ]
        },
        {
          "output_type": "stream",
          "name": "stderr",
          "text": [
            "      44/75      7.51G    0.03225         30        640: 100%|██████████| 67/67 [01:51<00:00,  1.67s/it]\n",
            "               classes   top1_acc   top5_acc: 100%|██████████| 5/5 [00:00<00:00, 15.96it/s]"
          ]
        },
        {
          "output_type": "stream",
          "name": "stdout",
          "text": [
            "                   all      0.981          1\n"
          ]
        },
        {
          "output_type": "stream",
          "name": "stderr",
          "text": [
            "\n"
          ]
        },
        {
          "output_type": "stream",
          "name": "stdout",
          "text": [
            "\n",
            "      Epoch    GPU_mem       loss  Instances       Size\n"
          ]
        },
        {
          "output_type": "stream",
          "name": "stderr",
          "text": [
            "      45/75      7.52G     0.0341         30        640: 100%|██████████| 67/67 [01:48<00:00,  1.62s/it]\n",
            "               classes   top1_acc   top5_acc: 100%|██████████| 5/5 [00:00<00:00, 20.21it/s]"
          ]
        },
        {
          "output_type": "stream",
          "name": "stdout",
          "text": [
            "                   all      0.981          1\n"
          ]
        },
        {
          "output_type": "stream",
          "name": "stderr",
          "text": [
            "\n"
          ]
        },
        {
          "output_type": "stream",
          "name": "stdout",
          "text": [
            "\n",
            "      Epoch    GPU_mem       loss  Instances       Size\n"
          ]
        },
        {
          "output_type": "stream",
          "name": "stderr",
          "text": [
            "      46/75      7.51G    0.03148         30        640: 100%|██████████| 67/67 [01:43<00:00,  1.54s/it]\n",
            "               classes   top1_acc   top5_acc: 100%|██████████| 5/5 [00:00<00:00, 15.28it/s]"
          ]
        },
        {
          "output_type": "stream",
          "name": "stdout",
          "text": [
            "                   all      0.981          1\n"
          ]
        },
        {
          "output_type": "stream",
          "name": "stderr",
          "text": [
            "\n"
          ]
        },
        {
          "output_type": "stream",
          "name": "stdout",
          "text": [
            "\n",
            "      Epoch    GPU_mem       loss  Instances       Size\n"
          ]
        },
        {
          "output_type": "stream",
          "name": "stderr",
          "text": [
            "      47/75      7.52G    0.03561         30        640: 100%|██████████| 67/67 [01:48<00:00,  1.61s/it]\n",
            "               classes   top1_acc   top5_acc: 100%|██████████| 5/5 [00:00<00:00, 16.18it/s]"
          ]
        },
        {
          "output_type": "stream",
          "name": "stdout",
          "text": [
            "                   all      0.981          1\n"
          ]
        },
        {
          "output_type": "stream",
          "name": "stderr",
          "text": [
            "\n"
          ]
        },
        {
          "output_type": "stream",
          "name": "stdout",
          "text": [
            "\n",
            "      Epoch    GPU_mem       loss  Instances       Size\n"
          ]
        },
        {
          "output_type": "stream",
          "name": "stderr",
          "text": [
            "      48/75      7.51G    0.02953         30        640: 100%|██████████| 67/67 [01:52<00:00,  1.68s/it]\n",
            "               classes   top1_acc   top5_acc: 100%|██████████| 5/5 [00:00<00:00, 11.65it/s]"
          ]
        },
        {
          "output_type": "stream",
          "name": "stdout",
          "text": [
            "                   all      0.989          1\n"
          ]
        },
        {
          "output_type": "stream",
          "name": "stderr",
          "text": [
            "\n"
          ]
        },
        {
          "output_type": "stream",
          "name": "stdout",
          "text": [
            "\n",
            "      Epoch    GPU_mem       loss  Instances       Size\n"
          ]
        },
        {
          "output_type": "stream",
          "name": "stderr",
          "text": [
            "      49/75      7.52G    0.02683         30        640: 100%|██████████| 67/67 [01:47<00:00,  1.60s/it]\n",
            "               classes   top1_acc   top5_acc: 100%|██████████| 5/5 [00:00<00:00, 18.65it/s]"
          ]
        },
        {
          "output_type": "stream",
          "name": "stdout",
          "text": [
            "                   all      0.989          1\n"
          ]
        },
        {
          "output_type": "stream",
          "name": "stderr",
          "text": [
            "\n"
          ]
        },
        {
          "output_type": "stream",
          "name": "stdout",
          "text": [
            "\n",
            "      Epoch    GPU_mem       loss  Instances       Size\n"
          ]
        },
        {
          "output_type": "stream",
          "name": "stderr",
          "text": [
            "      50/75      7.51G    0.03338         30        640: 100%|██████████| 67/67 [01:54<00:00,  1.71s/it]\n",
            "               classes   top1_acc   top5_acc: 100%|██████████| 5/5 [00:00<00:00, 12.44it/s]"
          ]
        },
        {
          "output_type": "stream",
          "name": "stdout",
          "text": [
            "                   all      0.992          1\n"
          ]
        },
        {
          "output_type": "stream",
          "name": "stderr",
          "text": [
            "\n"
          ]
        },
        {
          "output_type": "stream",
          "name": "stdout",
          "text": [
            "\n",
            "      Epoch    GPU_mem       loss  Instances       Size\n"
          ]
        },
        {
          "output_type": "stream",
          "name": "stderr",
          "text": [
            "      51/75      7.52G    0.02684         30        640: 100%|██████████| 67/67 [01:47<00:00,  1.60s/it]\n",
            "               classes   top1_acc   top5_acc: 100%|██████████| 5/5 [00:00<00:00, 11.26it/s]"
          ]
        },
        {
          "output_type": "stream",
          "name": "stdout",
          "text": [
            "                   all      0.992          1\n"
          ]
        },
        {
          "output_type": "stream",
          "name": "stderr",
          "text": [
            "\n"
          ]
        },
        {
          "output_type": "stream",
          "name": "stdout",
          "text": [
            "\n",
            "      Epoch    GPU_mem       loss  Instances       Size\n"
          ]
        },
        {
          "output_type": "stream",
          "name": "stderr",
          "text": [
            "      52/75      7.51G    0.02576         30        640: 100%|██████████| 67/67 [01:44<00:00,  1.55s/it]\n",
            "               classes   top1_acc   top5_acc: 100%|██████████| 5/5 [00:00<00:00, 17.73it/s]"
          ]
        },
        {
          "output_type": "stream",
          "name": "stdout",
          "text": [
            "                   all      0.989          1\n"
          ]
        },
        {
          "output_type": "stream",
          "name": "stderr",
          "text": [
            "\n"
          ]
        },
        {
          "output_type": "stream",
          "name": "stdout",
          "text": [
            "\n",
            "      Epoch    GPU_mem       loss  Instances       Size\n"
          ]
        },
        {
          "output_type": "stream",
          "name": "stderr",
          "text": [
            "      53/75      7.52G    0.02857         30        640: 100%|██████████| 67/67 [01:56<00:00,  1.74s/it]\n",
            "               classes   top1_acc   top5_acc: 100%|██████████| 5/5 [00:00<00:00, 12.35it/s]"
          ]
        },
        {
          "output_type": "stream",
          "name": "stdout",
          "text": [
            "                   all      0.985          1\n"
          ]
        },
        {
          "output_type": "stream",
          "name": "stderr",
          "text": [
            "\n"
          ]
        },
        {
          "output_type": "stream",
          "name": "stdout",
          "text": [
            "\n",
            "      Epoch    GPU_mem       loss  Instances       Size\n"
          ]
        },
        {
          "output_type": "stream",
          "name": "stderr",
          "text": [
            "      54/75      7.51G    0.02253         30        640: 100%|██████████| 67/67 [01:38<00:00,  1.48s/it]\n",
            "               classes   top1_acc   top5_acc: 100%|██████████| 5/5 [00:00<00:00, 13.07it/s]"
          ]
        },
        {
          "output_type": "stream",
          "name": "stdout",
          "text": [
            "                   all      0.992          1\n"
          ]
        },
        {
          "output_type": "stream",
          "name": "stderr",
          "text": [
            "\n"
          ]
        },
        {
          "output_type": "stream",
          "name": "stdout",
          "text": [
            "\n",
            "      Epoch    GPU_mem       loss  Instances       Size\n"
          ]
        },
        {
          "output_type": "stream",
          "name": "stderr",
          "text": [
            "      55/75      7.52G    0.02558         30        640: 100%|██████████| 67/67 [01:43<00:00,  1.55s/it]\n",
            "               classes   top1_acc   top5_acc: 100%|██████████| 5/5 [00:00<00:00, 19.01it/s]"
          ]
        },
        {
          "output_type": "stream",
          "name": "stdout",
          "text": [
            "                   all      0.989          1\n"
          ]
        },
        {
          "output_type": "stream",
          "name": "stderr",
          "text": [
            "\n"
          ]
        },
        {
          "output_type": "stream",
          "name": "stdout",
          "text": [
            "\n",
            "      Epoch    GPU_mem       loss  Instances       Size\n"
          ]
        },
        {
          "output_type": "stream",
          "name": "stderr",
          "text": [
            "      56/75      7.51G    0.01812         30        640: 100%|██████████| 67/67 [01:53<00:00,  1.70s/it]\n",
            "               classes   top1_acc   top5_acc: 100%|██████████| 5/5 [00:00<00:00,  9.32it/s]"
          ]
        },
        {
          "output_type": "stream",
          "name": "stdout",
          "text": [
            "                   all      0.989          1\n"
          ]
        },
        {
          "output_type": "stream",
          "name": "stderr",
          "text": [
            "\n"
          ]
        },
        {
          "output_type": "stream",
          "name": "stdout",
          "text": [
            "\n",
            "      Epoch    GPU_mem       loss  Instances       Size\n"
          ]
        },
        {
          "output_type": "stream",
          "name": "stderr",
          "text": [
            "      57/75      7.52G    0.02107         30        640: 100%|██████████| 67/67 [01:55<00:00,  1.72s/it]\n",
            "               classes   top1_acc   top5_acc: 100%|██████████| 5/5 [00:00<00:00, 14.53it/s]"
          ]
        },
        {
          "output_type": "stream",
          "name": "stdout",
          "text": [
            "                   all      0.989          1\n"
          ]
        },
        {
          "output_type": "stream",
          "name": "stderr",
          "text": [
            "\n"
          ]
        },
        {
          "output_type": "stream",
          "name": "stdout",
          "text": [
            "\n",
            "      Epoch    GPU_mem       loss  Instances       Size\n"
          ]
        },
        {
          "output_type": "stream",
          "name": "stderr",
          "text": [
            "      58/75      7.51G     0.0206         30        640: 100%|██████████| 67/67 [01:44<00:00,  1.56s/it]\n",
            "               classes   top1_acc   top5_acc: 100%|██████████| 5/5 [00:00<00:00,  9.42it/s]"
          ]
        },
        {
          "output_type": "stream",
          "name": "stdout",
          "text": [
            "                   all          1          1\n"
          ]
        },
        {
          "output_type": "stream",
          "name": "stderr",
          "text": [
            "\n"
          ]
        },
        {
          "output_type": "stream",
          "name": "stdout",
          "text": [
            "\n",
            "      Epoch    GPU_mem       loss  Instances       Size\n"
          ]
        },
        {
          "output_type": "stream",
          "name": "stderr",
          "text": [
            "      59/75      7.52G    0.01624         30        640: 100%|██████████| 67/67 [01:46<00:00,  1.59s/it]\n",
            "               classes   top1_acc   top5_acc: 100%|██████████| 5/5 [00:00<00:00, 19.58it/s]"
          ]
        },
        {
          "output_type": "stream",
          "name": "stdout",
          "text": [
            "                   all      0.985          1\n"
          ]
        },
        {
          "output_type": "stream",
          "name": "stderr",
          "text": [
            "\n"
          ]
        },
        {
          "output_type": "stream",
          "name": "stdout",
          "text": [
            "\n",
            "      Epoch    GPU_mem       loss  Instances       Size\n"
          ]
        },
        {
          "output_type": "stream",
          "name": "stderr",
          "text": [
            "      60/75      7.51G    0.02261         30        640: 100%|██████████| 67/67 [01:48<00:00,  1.62s/it]\n",
            "               classes   top1_acc   top5_acc: 100%|██████████| 5/5 [00:00<00:00, 20.01it/s]"
          ]
        },
        {
          "output_type": "stream",
          "name": "stdout",
          "text": [
            "                   all      0.992          1\n"
          ]
        },
        {
          "output_type": "stream",
          "name": "stderr",
          "text": [
            "\n"
          ]
        },
        {
          "output_type": "stream",
          "name": "stdout",
          "text": [
            "\n",
            "      Epoch    GPU_mem       loss  Instances       Size\n"
          ]
        },
        {
          "output_type": "stream",
          "name": "stderr",
          "text": [
            "      61/75      7.52G     0.0205         30        640: 100%|██████████| 67/67 [01:47<00:00,  1.61s/it]\n",
            "               classes   top1_acc   top5_acc: 100%|██████████| 5/5 [00:00<00:00, 17.35it/s]"
          ]
        },
        {
          "output_type": "stream",
          "name": "stdout",
          "text": [
            "                   all      0.992          1\n"
          ]
        },
        {
          "output_type": "stream",
          "name": "stderr",
          "text": [
            "\n"
          ]
        },
        {
          "output_type": "stream",
          "name": "stdout",
          "text": [
            "\n",
            "      Epoch    GPU_mem       loss  Instances       Size\n"
          ]
        },
        {
          "output_type": "stream",
          "name": "stderr",
          "text": [
            "      62/75      7.51G    0.02298         30        640: 100%|██████████| 67/67 [01:51<00:00,  1.67s/it]\n",
            "               classes   top1_acc   top5_acc: 100%|██████████| 5/5 [00:00<00:00, 11.21it/s]"
          ]
        },
        {
          "output_type": "stream",
          "name": "stdout",
          "text": [
            "                   all      0.992          1\n"
          ]
        },
        {
          "output_type": "stream",
          "name": "stderr",
          "text": [
            "\n"
          ]
        },
        {
          "output_type": "stream",
          "name": "stdout",
          "text": [
            "\n",
            "      Epoch    GPU_mem       loss  Instances       Size\n"
          ]
        },
        {
          "output_type": "stream",
          "name": "stderr",
          "text": [
            "      63/75      7.52G    0.01633         30        640: 100%|██████████| 67/67 [01:44<00:00,  1.57s/it]\n",
            "               classes   top1_acc   top5_acc: 100%|██████████| 5/5 [00:00<00:00, 20.64it/s]"
          ]
        },
        {
          "output_type": "stream",
          "name": "stdout",
          "text": [
            "                   all      0.992          1\n"
          ]
        },
        {
          "output_type": "stream",
          "name": "stderr",
          "text": [
            "\n"
          ]
        },
        {
          "output_type": "stream",
          "name": "stdout",
          "text": [
            "\n",
            "      Epoch    GPU_mem       loss  Instances       Size\n"
          ]
        },
        {
          "output_type": "stream",
          "name": "stderr",
          "text": [
            "      64/75      7.51G    0.01549         30        640: 100%|██████████| 67/67 [01:53<00:00,  1.70s/it]\n",
            "               classes   top1_acc   top5_acc: 100%|██████████| 5/5 [00:00<00:00, 11.00it/s]"
          ]
        },
        {
          "output_type": "stream",
          "name": "stdout",
          "text": [
            "                   all      0.989          1\n"
          ]
        },
        {
          "output_type": "stream",
          "name": "stderr",
          "text": [
            "\n"
          ]
        },
        {
          "output_type": "stream",
          "name": "stdout",
          "text": [
            "\n",
            "      Epoch    GPU_mem       loss  Instances       Size\n"
          ]
        },
        {
          "output_type": "stream",
          "name": "stderr",
          "text": [
            "      65/75      7.52G    0.01732         30        640: 100%|██████████| 67/67 [01:42<00:00,  1.53s/it]\n",
            "               classes   top1_acc   top5_acc: 100%|██████████| 5/5 [00:00<00:00, 10.80it/s]"
          ]
        },
        {
          "output_type": "stream",
          "name": "stdout",
          "text": [
            "                   all      0.989          1\n"
          ]
        },
        {
          "output_type": "stream",
          "name": "stderr",
          "text": [
            "\n"
          ]
        },
        {
          "output_type": "stream",
          "name": "stdout",
          "text": [
            "\n",
            "      Epoch    GPU_mem       loss  Instances       Size\n"
          ]
        },
        {
          "output_type": "stream",
          "name": "stderr",
          "text": [
            "      66/75      7.51G    0.01247         30        640: 100%|██████████| 67/67 [01:48<00:00,  1.62s/it]\n",
            "               classes   top1_acc   top5_acc: 100%|██████████| 5/5 [00:00<00:00, 19.72it/s]"
          ]
        },
        {
          "output_type": "stream",
          "name": "stdout",
          "text": [
            "                   all      0.996          1\n"
          ]
        },
        {
          "output_type": "stream",
          "name": "stderr",
          "text": [
            "\n"
          ]
        },
        {
          "output_type": "stream",
          "name": "stdout",
          "text": [
            "\n",
            "      Epoch    GPU_mem       loss  Instances       Size\n"
          ]
        },
        {
          "output_type": "stream",
          "name": "stderr",
          "text": [
            "      67/75      7.51G    0.01561         30        640: 100%|██████████| 67/67 [01:49<00:00,  1.63s/it]\n",
            "               classes   top1_acc   top5_acc: 100%|██████████| 5/5 [00:00<00:00, 17.51it/s]"
          ]
        },
        {
          "output_type": "stream",
          "name": "stdout",
          "text": [
            "                   all      0.996          1\n"
          ]
        },
        {
          "output_type": "stream",
          "name": "stderr",
          "text": [
            "\n"
          ]
        },
        {
          "output_type": "stream",
          "name": "stdout",
          "text": [
            "\n",
            "      Epoch    GPU_mem       loss  Instances       Size\n"
          ]
        },
        {
          "output_type": "stream",
          "name": "stderr",
          "text": [
            "      68/75      7.51G    0.01979         30        640: 100%|██████████| 67/67 [01:47<00:00,  1.60s/it]\n",
            "               classes   top1_acc   top5_acc: 100%|██████████| 5/5 [00:00<00:00, 18.40it/s]"
          ]
        },
        {
          "output_type": "stream",
          "name": "stdout",
          "text": [
            "                   all      0.992          1\n"
          ]
        },
        {
          "output_type": "stream",
          "name": "stderr",
          "text": [
            "\n"
          ]
        },
        {
          "output_type": "stream",
          "name": "stdout",
          "text": [
            "\n",
            "      Epoch    GPU_mem       loss  Instances       Size\n"
          ]
        },
        {
          "output_type": "stream",
          "name": "stderr",
          "text": [
            "      69/75      7.52G    0.01381         30        640: 100%|██████████| 67/67 [01:41<00:00,  1.52s/it]\n",
            "               classes   top1_acc   top5_acc: 100%|██████████| 5/5 [00:00<00:00, 19.59it/s]"
          ]
        },
        {
          "output_type": "stream",
          "name": "stdout",
          "text": [
            "                   all      0.989          1\n"
          ]
        },
        {
          "output_type": "stream",
          "name": "stderr",
          "text": [
            "\n"
          ]
        },
        {
          "output_type": "stream",
          "name": "stdout",
          "text": [
            "\n",
            "      Epoch    GPU_mem       loss  Instances       Size\n"
          ]
        },
        {
          "output_type": "stream",
          "name": "stderr",
          "text": [
            "      70/75      7.51G    0.01643         30        640: 100%|██████████| 67/67 [02:00<00:00,  1.80s/it]\n",
            "               classes   top1_acc   top5_acc: 100%|██████████| 5/5 [00:00<00:00, 20.58it/s]"
          ]
        },
        {
          "output_type": "stream",
          "name": "stdout",
          "text": [
            "                   all      0.989          1\n"
          ]
        },
        {
          "output_type": "stream",
          "name": "stderr",
          "text": [
            "\n"
          ]
        },
        {
          "output_type": "stream",
          "name": "stdout",
          "text": [
            "\n",
            "      Epoch    GPU_mem       loss  Instances       Size\n"
          ]
        },
        {
          "output_type": "stream",
          "name": "stderr",
          "text": [
            "      71/75      7.52G    0.01106         30        640: 100%|██████████| 67/67 [01:45<00:00,  1.57s/it]\n",
            "               classes   top1_acc   top5_acc: 100%|██████████| 5/5 [00:00<00:00, 10.89it/s]"
          ]
        },
        {
          "output_type": "stream",
          "name": "stdout",
          "text": [
            "                   all          1          1\n"
          ]
        },
        {
          "output_type": "stream",
          "name": "stderr",
          "text": [
            "\n"
          ]
        },
        {
          "output_type": "stream",
          "name": "stdout",
          "text": [
            "\n",
            "      Epoch    GPU_mem       loss  Instances       Size\n"
          ]
        },
        {
          "output_type": "stream",
          "name": "stderr",
          "text": [
            "      72/75      7.51G    0.01286         30        640: 100%|██████████| 67/67 [01:44<00:00,  1.56s/it]\n",
            "               classes   top1_acc   top5_acc: 100%|██████████| 5/5 [00:00<00:00, 18.52it/s]"
          ]
        },
        {
          "output_type": "stream",
          "name": "stdout",
          "text": [
            "                   all      0.996          1\n"
          ]
        },
        {
          "output_type": "stream",
          "name": "stderr",
          "text": [
            "\n"
          ]
        },
        {
          "output_type": "stream",
          "name": "stdout",
          "text": [
            "\n",
            "      Epoch    GPU_mem       loss  Instances       Size\n"
          ]
        },
        {
          "output_type": "stream",
          "name": "stderr",
          "text": [
            "      73/75      7.52G    0.01144         30        640: 100%|██████████| 67/67 [01:47<00:00,  1.61s/it]\n",
            "               classes   top1_acc   top5_acc: 100%|██████████| 5/5 [00:00<00:00, 17.42it/s]"
          ]
        },
        {
          "output_type": "stream",
          "name": "stdout",
          "text": [
            "                   all      0.992          1\n"
          ]
        },
        {
          "output_type": "stream",
          "name": "stderr",
          "text": [
            "\n"
          ]
        },
        {
          "output_type": "stream",
          "name": "stdout",
          "text": [
            "\n",
            "      Epoch    GPU_mem       loss  Instances       Size\n"
          ]
        },
        {
          "output_type": "stream",
          "name": "stderr",
          "text": [
            "      74/75      7.51G    0.01093         30        640: 100%|██████████| 67/67 [01:46<00:00,  1.58s/it]\n",
            "               classes   top1_acc   top5_acc: 100%|██████████| 5/5 [00:00<00:00, 20.18it/s]"
          ]
        },
        {
          "output_type": "stream",
          "name": "stdout",
          "text": [
            "                   all      0.992          1\n"
          ]
        },
        {
          "output_type": "stream",
          "name": "stderr",
          "text": [
            "\n"
          ]
        },
        {
          "output_type": "stream",
          "name": "stdout",
          "text": [
            "\n",
            "      Epoch    GPU_mem       loss  Instances       Size\n"
          ]
        },
        {
          "output_type": "stream",
          "name": "stderr",
          "text": [
            "      75/75      7.52G    0.01189         30        640: 100%|██████████| 67/67 [01:49<00:00,  1.64s/it]\n",
            "               classes   top1_acc   top5_acc: 100%|██████████| 5/5 [00:00<00:00, 10.08it/s]"
          ]
        },
        {
          "output_type": "stream",
          "name": "stdout",
          "text": [
            "                   all      0.992          1\n"
          ]
        },
        {
          "output_type": "stream",
          "name": "stderr",
          "text": [
            "\n"
          ]
        },
        {
          "output_type": "stream",
          "name": "stdout",
          "text": [
            "\n",
            "75 epochs completed in 2.308 hours.\n",
            "Optimizer stripped from runs/classify/train2/weights/last.pt, 11.0MB\n",
            "Optimizer stripped from runs/classify/train2/weights/best.pt, 11.0MB\n",
            "\n",
            "Validating runs/classify/train2/weights/best.pt...\n",
            "Ultralytics 8.3.74 🚀 Python-3.11.11 torch-2.5.1+cu124 CUDA:0 (NVIDIA A100-SXM4-40GB, 40507MiB)\n",
            "YOLO11s-cls summary (fused): 112 layers, 5,436,690 parameters, 0 gradients, 12.0 GFLOPs\n",
            "\u001b[34m\u001b[1mtrain:\u001b[0m /content/SenDsgnTraining/train... found 2142 images in 2 classes ✅ \n",
            "\u001b[34m\u001b[1mval:\u001b[0m /content/SenDsgnTraining/val... found 266 images in 2 classes ✅ \n",
            "\u001b[34m\u001b[1mtest:\u001b[0m /content/SenDsgnTraining/test... found 266 images in 2 classes ✅ \n"
          ]
        },
        {
          "output_type": "stream",
          "name": "stderr",
          "text": [
            "               classes   top1_acc   top5_acc: 100%|██████████| 5/5 [00:00<00:00,  5.15it/s]\n"
          ]
        },
        {
          "output_type": "stream",
          "name": "stdout",
          "text": [
            "                   all          1          1\n",
            "Speed: 0.5ms preprocess, 2.3ms inference, 0.0ms loss, 0.0ms postprocess per image\n",
            "Results saved to \u001b[1mruns/classify/train2\u001b[0m\n"
          ]
        }
      ]
    },
    {
      "cell_type": "code",
      "source": [
        "# Just in case, we want to download the \"runs\" folder and save our training results\n",
        "!zip -r /content/run4.zip /content/runs"
      ],
      "metadata": {
        "colab": {
          "base_uri": "https://localhost:8080/"
        },
        "id": "XtyUP93jG5CE",
        "outputId": "4e39f41a-8149-458d-80bb-8c0b83fec337"
      },
      "execution_count": null,
      "outputs": [
        {
          "output_type": "stream",
          "name": "stdout",
          "text": [
            "  adding: content/runs/ (stored 0%)\n",
            "  adding: content/runs/classify/ (stored 0%)\n",
            "  adding: content/runs/classify/train/ (stored 0%)\n",
            "  adding: content/runs/classify/train/args.yaml (deflated 52%)\n",
            "  adding: content/runs/classify/train/train_batch0.jpg (deflated 1%)\n",
            "  adding: content/runs/classify/train/weights/ (stored 0%)\n",
            "  adding: content/runs/classify/train/weights/last.pt (deflated 44%)\n",
            "  adding: content/runs/classify/train/weights/best.pt (deflated 44%)\n",
            "  adding: content/runs/classify/train/events.out.tfevents.1739319725.e4d51b6b0ced.4699.0 (deflated 93%)\n",
            "  adding: content/runs/classify/train/results.csv (deflated 62%)\n",
            "  adding: content/runs/classify/train/train_batch2.jpg (deflated 1%)\n",
            "  adding: content/runs/classify/train/train_batch1.jpg (deflated 1%)\n",
            "  adding: content/runs/classify/train2/ (stored 0%)\n",
            "  adding: content/runs/classify/train2/confusion_matrix.png (deflated 34%)\n",
            "  adding: content/runs/classify/train2/val_batch0_labels.jpg (deflated 0%)\n",
            "  adding: content/runs/classify/train2/args.yaml (deflated 52%)\n",
            "  adding: content/runs/classify/train2/train_batch4355.jpg (deflated 1%)\n",
            "  adding: content/runs/classify/train2/val_batch2_pred.jpg (deflated 0%)\n",
            "  adding: content/runs/classify/train2/val_batch2_labels.jpg (deflated 0%)\n",
            "  adding: content/runs/classify/train2/val_batch1_pred.jpg (deflated 0%)\n",
            "  adding: content/runs/classify/train2/val_batch0_pred.jpg (deflated 0%)\n",
            "  adding: content/runs/classify/train2/events.out.tfevents.1739324515.e4d51b6b0ced.4699.1 (deflated 91%)\n",
            "  adding: content/runs/classify/train2/train_batch0.jpg (deflated 1%)\n",
            "  adding: content/runs/classify/train2/val_batch1_labels.jpg (deflated 0%)\n",
            "  adding: content/runs/classify/train2/weights/ (stored 0%)\n",
            "  adding: content/runs/classify/train2/weights/last.pt (deflated 8%)\n",
            "  adding: content/runs/classify/train2/weights/best.pt (deflated 8%)\n",
            "  adding: content/runs/classify/train2/confusion_matrix_normalized.png (deflated 34%)\n",
            "  adding: content/runs/classify/train2/results.csv (deflated 69%)\n",
            "  adding: content/runs/classify/train2/train_batch4356.jpg (deflated 1%)\n",
            "  adding: content/runs/classify/train2/results.png (deflated 11%)\n",
            "  adding: content/runs/classify/train2/train_batch2.jpg (deflated 1%)\n",
            "  adding: content/runs/classify/train2/train_batch1.jpg (deflated 1%)\n",
            "  adding: content/runs/classify/train2/train_batch4357.jpg (deflated 1%)\n"
          ]
        }
      ]
    },
    {
      "cell_type": "code",
      "source": [
        "results2 = model.val()"
      ],
      "metadata": {
        "colab": {
          "base_uri": "https://localhost:8080/"
        },
        "id": "HLwttz8pmnqe",
        "outputId": "e84b0660-6877-41bc-b5f1-5e6dab7d2e03"
      },
      "execution_count": null,
      "outputs": [
        {
          "output_type": "stream",
          "name": "stdout",
          "text": [
            "Ultralytics 8.3.74 🚀 Python-3.11.11 torch-2.5.1+cu124 CUDA:0 (NVIDIA A100-SXM4-40GB, 40507MiB)\n",
            "YOLO11s-cls summary (fused): 112 layers, 5,436,690 parameters, 0 gradients, 12.0 GFLOPs\n",
            "\u001b[34m\u001b[1mtrain:\u001b[0m /content/SenDsgnTraining/train... found 2804 images in 2 classes ✅ \n",
            "\u001b[34m\u001b[1mval:\u001b[0m /content/SenDsgnTraining/val... found 349 images in 2 classes ✅ \n",
            "\u001b[34m\u001b[1mtest:\u001b[0m /content/SenDsgnTraining/test... found 349 images in 2 classes ✅ \n"
          ]
        },
        {
          "output_type": "stream",
          "name": "stderr",
          "text": [
            "\u001b[34m\u001b[1mval: \u001b[0mScanning /content/SenDsgnTraining/val... 349 images, 0 corrupt: 100%|██████████| 349/349 [00:00<?, ?it/s]\n",
            "               classes   top1_acc   top5_acc: 100%|██████████| 8/8 [00:21<00:00,  2.71s/it]\n"
          ]
        },
        {
          "output_type": "stream",
          "name": "stdout",
          "text": [
            "                   all      0.991          1\n",
            "Speed: 1.0ms preprocess, 1.4ms inference, 0.0ms loss, 0.0ms postprocess per image\n",
            "Results saved to \u001b[1mruns/classify/train2\u001b[0m\n"
          ]
        }
      ]
    }
  ]
}