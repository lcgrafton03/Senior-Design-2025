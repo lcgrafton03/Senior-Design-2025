{
  "nbformat": 4,
  "nbformat_minor": 0,
  "metadata": {
    "colab": {
      "provenance": [],
      "gpuType": "A100",
      "collapsed_sections": [
        "xUTncdzzrhMQ"
      ],
      "machine_shape": "hm"
    },
    "kernelspec": {
      "name": "python3",
      "display_name": "Python 3"
    },
    "language_info": {
      "name": "python"
    },
    "accelerator": "GPU"
  },
  "cells": [
    {
      "cell_type": "markdown",
      "source": [
        "# Senior Design Team 1725, Classifying AIS, MM Solution Training\n",
        "This file is a jupyter notebook containing\n",
        "the training results for the \"multiple models\"\n",
        "solution for the AIS Classification project.\n",
        "\n",
        "Intent: showcase a training method that can work\n",
        "        with any dataset size for a specific class\n",
        "        while also being flexible for training new models\n",
        "        that can handle other invasive species.\n",
        "\n",
        "Basically, rather than having one model that handles all species,\n",
        "we attempt to have multiple models chained together to handle identification"
      ],
      "metadata": {
        "id": "Mn9I90Y1rGRq"
      }
    },
    {
      "cell_type": "markdown",
      "source": [
        "##Training Run: 2\n",
        "This is the second version of the file. This time, we try to accomplish a basic training with 200 images from the none and phragmites class\n",
        "\n",
        "- We are using an A100 GPU instance"
      ],
      "metadata": {
        "id": "UXX0YfsF-HHu"
      }
    },
    {
      "cell_type": "markdown",
      "source": [
        "## Dataset Mounting:\n",
        "First, we want to access our dataset. To do this, we mount our sharepoint/OneDrive to colab. Can be done by following [this](https://medium.com/@pratikmukherjee32/mount-onedrive-to-google-colab-f941a3a96a79) guide.\n",
        "\n",
        "You must first run the rclone config *locally*, then you can get it on Colab. The reason for this is because we need an API key for the mount to work properly, which requires web browser access (not possible in Colab)."
      ],
      "metadata": {
        "id": "xUTncdzzrhMQ"
      }
    },
    {
      "cell_type": "code",
      "source": [
        "!wget https://downloads.rclone.org/v1.69.0/rclone-v1.69.0-linux-amd64.deb\n",
        "!apt install ./rclone-v1.69.0-linux-amd64.deb"
      ],
      "metadata": {
        "id": "tNyKnfG3HOyN",
        "colab": {
          "base_uri": "https://localhost:8080/"
        },
        "outputId": "208387ce-f7e9-4b72-f1ed-2e15d5a81b50"
      },
      "execution_count": null,
      "outputs": [
        {
          "output_type": "stream",
          "name": "stdout",
          "text": [
            "--2025-02-06 21:06:53--  https://downloads.rclone.org/v1.69.0/rclone-v1.69.0-linux-amd64.deb\n",
            "Resolving downloads.rclone.org (downloads.rclone.org)... 95.217.6.16, 2a01:4f9:c012:7154::1\n",
            "Connecting to downloads.rclone.org (downloads.rclone.org)|95.217.6.16|:443... connected.\n",
            "HTTP request sent, awaiting response... 200 OK\n",
            "Length: 23665802 (23M) [application/vnd.debian.binary-package]\n",
            "Saving to: ‘rclone-v1.69.0-linux-amd64.deb’\n",
            "\n",
            "rclone-v1.69.0-linu 100%[===================>]  22.57M  14.0MB/s    in 1.6s    \n",
            "\n",
            "2025-02-06 21:06:55 (14.0 MB/s) - ‘rclone-v1.69.0-linux-amd64.deb’ saved [23665802/23665802]\n",
            "\n",
            "Reading package lists... Done\n",
            "Building dependency tree... Done\n",
            "Reading state information... Done\n",
            "Note, selecting 'rclone' instead of './rclone-v1.69.0-linux-amd64.deb'\n",
            "The following NEW packages will be installed:\n",
            "  rclone\n",
            "0 upgraded, 1 newly installed, 0 to remove and 19 not upgraded.\n",
            "Need to get 0 B/23.7 MB of archives.\n",
            "After this operation, 71.0 MB of additional disk space will be used.\n",
            "Get:1 /content/rclone-v1.69.0-linux-amd64.deb rclone amd64 1.69.0 [23.7 MB]\n",
            "Selecting previously unselected package rclone.\n",
            "(Reading database ... 124926 files and directories currently installed.)\n",
            "Preparing to unpack .../rclone-v1.69.0-linux-amd64.deb ...\n",
            "Unpacking rclone (1.69.0) ...\n",
            "Setting up rclone (1.69.0) ...\n",
            "Processing triggers for man-db (2.10.2-1) ...\n"
          ]
        }
      ]
    },
    {
      "cell_type": "code",
      "source": [
        "# We will need to pass some arguments for this to work,\n",
        "# so make sure we still have the api key\n",
        "# (Note: you need to copy the ENTIRE struct, as the values are read as an array)\n",
        "\n",
        "# Also, make sure to clear the output! We don't want to have\n",
        "# loose api keys floating around the internet!\n",
        "!rclone config"
      ],
      "metadata": {
        "id": "Q09StzydMGfo"
      },
      "execution_count": null,
      "outputs": []
    },
    {
      "cell_type": "code",
      "source": [
        "C\n",
        "# Create onedrive directory in colab"
      ],
      "metadata": {
        "id": "YgQYMyR0MJsJ"
      },
      "execution_count": null,
      "outputs": []
    },
    {
      "cell_type": "code",
      "source": [
        "# Install fusermount3 to ensure proper mounting\n",
        "!sudo apt-get -y install fuse3"
      ],
      "metadata": {
        "id": "d14Tx6fQzYRr",
        "colab": {
          "base_uri": "https://localhost:8080/"
        },
        "outputId": "8630a78d-6a4b-4b16-e460-4eb8c5ee8228"
      },
      "execution_count": null,
      "outputs": [
        {
          "output_type": "stream",
          "name": "stdout",
          "text": [
            "Reading package lists... Done\n",
            "Building dependency tree... Done\n",
            "Reading state information... Done\n",
            "The following package was automatically installed and is no longer required:\n",
            "  libfuse2\n",
            "Use 'sudo apt autoremove' to remove it.\n",
            "The following additional packages will be installed:\n",
            "  libfuse3-3\n",
            "The following packages will be REMOVED:\n",
            "  fuse\n",
            "The following NEW packages will be installed:\n",
            "  fuse3 libfuse3-3\n",
            "0 upgraded, 2 newly installed, 1 to remove and 19 not upgraded.\n",
            "Need to get 106 kB of archives.\n",
            "After this operation, 264 kB of additional disk space will be used.\n",
            "Get:1 http://archive.ubuntu.com/ubuntu jammy/main amd64 libfuse3-3 amd64 3.10.5-1build1 [81.2 kB]\n",
            "Get:2 http://archive.ubuntu.com/ubuntu jammy/main amd64 fuse3 amd64 3.10.5-1build1 [24.7 kB]\n",
            "Fetched 106 kB in 0s (449 kB/s)\n",
            "debconf: unable to initialize frontend: Dialog\n",
            "debconf: (No usable dialog-like program is installed, so the dialog based frontend cannot be used. at /usr/share/perl5/Debconf/FrontEnd/Dialog.pm line 78, <> line 2.)\n",
            "debconf: falling back to frontend: Readline\n",
            "debconf: unable to initialize frontend: Readline\n",
            "debconf: (This frontend requires a controlling tty.)\n",
            "debconf: falling back to frontend: Teletype\n",
            "dpkg-preconfigure: unable to re-open stdin: \n",
            "(Reading database ... 124931 files and directories currently installed.)\n",
            "Removing fuse (2.9.9-5ubuntu3) ...\n",
            "Selecting previously unselected package libfuse3-3:amd64.\n",
            "(Reading database ... 124921 files and directories currently installed.)\n",
            "Preparing to unpack .../libfuse3-3_3.10.5-1build1_amd64.deb ...\n",
            "Unpacking libfuse3-3:amd64 (3.10.5-1build1) ...\n",
            "Selecting previously unselected package fuse3.\n",
            "Preparing to unpack .../fuse3_3.10.5-1build1_amd64.deb ...\n",
            "Unpacking fuse3 (3.10.5-1build1) ...\n",
            "Setting up libfuse3-3:amd64 (3.10.5-1build1) ...\n",
            "Setting up fuse3 (3.10.5-1build1) ...\n",
            "Installing new version of config file /etc/fuse.conf ...\n",
            "Processing triggers for man-db (2.10.2-1) ...\n",
            "Processing triggers for libc-bin (2.35-0ubuntu3.8) ...\n",
            "/sbin/ldconfig.real: /usr/local/lib/libtcm_debug.so.1 is not a symbolic link\n",
            "\n",
            "/sbin/ldconfig.real: /usr/local/lib/libtbbbind_2_5.so.3 is not a symbolic link\n",
            "\n",
            "/sbin/ldconfig.real: /usr/local/lib/libumf.so.0 is not a symbolic link\n",
            "\n",
            "/sbin/ldconfig.real: /usr/local/lib/libtbbbind.so.3 is not a symbolic link\n",
            "\n",
            "/sbin/ldconfig.real: /usr/local/lib/libtbbbind_2_0.so.3 is not a symbolic link\n",
            "\n",
            "/sbin/ldconfig.real: /usr/local/lib/libhwloc.so.15 is not a symbolic link\n",
            "\n",
            "/sbin/ldconfig.real: /usr/local/lib/libur_loader.so.0 is not a symbolic link\n",
            "\n",
            "/sbin/ldconfig.real: /usr/local/lib/libtcm.so.1 is not a symbolic link\n",
            "\n",
            "/sbin/ldconfig.real: /usr/local/lib/libur_adapter_level_zero.so.0 is not a symbolic link\n",
            "\n",
            "/sbin/ldconfig.real: /usr/local/lib/libtbb.so.12 is not a symbolic link\n",
            "\n",
            "/sbin/ldconfig.real: /usr/local/lib/libur_adapter_opencl.so.0 is not a symbolic link\n",
            "\n",
            "/sbin/ldconfig.real: /usr/local/lib/libtbbmalloc.so.2 is not a symbolic link\n",
            "\n",
            "/sbin/ldconfig.real: /usr/local/lib/libtbbmalloc_proxy.so.2 is not a symbolic link\n",
            "\n"
          ]
        }
      ]
    },
    {
      "cell_type": "code",
      "source": [
        "!nohup rclone --vfs-cache-mode full mount onedrive: /content/onedrive &\n",
        "# After these commands, we should have a onedrive folder in the files section\n",
        "# within colab with everything we need!"
      ],
      "metadata": {
        "colab": {
          "base_uri": "https://localhost:8080/"
        },
        "id": "V-S7k7i7x2w7",
        "outputId": "836133d4-892b-4bc5-d7fa-8c0037fa969c"
      },
      "execution_count": null,
      "outputs": [
        {
          "output_type": "stream",
          "name": "stdout",
          "text": [
            "nohup: appending output to 'nohup.out'\n"
          ]
        }
      ]
    },
    {
      "cell_type": "markdown",
      "source": [
        "## Dataset Setup:\n",
        "What we want to do next is copy the files from the datasets we want to use for creating our first few models.\n",
        "\n",
        "Basically, we are copying the files to the colab environment because we don't want to overwrite what's going on with OneDrive and because we want a \"fresh\" place to store our training results\n",
        "\n",
        "##Word of warning:\n",
        "Doing this will consume disk resources on Colab, make sure you have enough space with the images you copy over!"
      ],
      "metadata": {
        "id": "zGHvT2bKLEEU"
      }
    },
    {
      "cell_type": "code",
      "source": [
        "# Import utilities to take random image sampling and copy to target directory\n",
        "import os\n",
        "import shutil\n",
        "import random\n",
        "\n",
        "# Create a new directory specifically to hold dataset\n",
        "!sudo mkdir /content/SenDsgnTraining"
      ],
      "metadata": {
        "id": "2xY-r6jGNju_"
      },
      "execution_count": null,
      "outputs": []
    },
    {
      "cell_type": "code",
      "source": [
        "# Code assistance from Joey George\n",
        "# Dataset path:\n",
        "source_dir = r\"/content/onedrive/Training Images/Training\"\n",
        "target_dir = r\"/content/SenDsgnTraining\"\n",
        "\n",
        "# Define classes for the smaller datasets\n",
        "# The options we have are:\n",
        "# \"narrowleaf_cattail\", \"none\", \"phragmites\", \"purple_loosestrife\"\n",
        "classes = [\"none\", \"phragmites\"]\n",
        "splits = {\"train\": 70, \"val\": 15, \"test\": 15}  # Percentage split"
      ],
      "metadata": {
        "id": "ncSguFh66VXO"
      },
      "execution_count": null,
      "outputs": []
    },
    {
      "cell_type": "code",
      "source": [
        "# Create target directory structure\n",
        "for split in splits:\n",
        "    for class_name in classes:\n",
        "        os.makedirs(os.path.join(target_dir, split, class_name), exist_ok=True)"
      ],
      "metadata": {
        "id": "8kovwvOJ6kNy"
      },
      "execution_count": null,
      "outputs": []
    },
    {
      "cell_type": "code",
      "source": [
        "# Process each class\n",
        "num_images = 200 # number of images we want to use for each class\n",
        "for class_name in classes:\n",
        "    source_path = os.path.join(source_dir, class_name)\n",
        "    images = [f for f in os.listdir(source_path) if f.endswith(\".jpg\")]\n",
        "\n",
        "    # Randomly sample images\n",
        "    selected_images = random.sample(images, min(num_images, len(images)))\n",
        "\n",
        "    # Distribute images across train, val, test\n",
        "    split_counts = {k: int(v * len(selected_images) / 100) for k, v in splits.items()}\n",
        "    start_idx = 0\n",
        "    for split, count in split_counts.items():\n",
        "        split_path = os.path.join(target_dir, split, class_name)\n",
        "        for i in range(count):\n",
        "            img_name = f\"{start_idx}_{class_name}.jpg\"\n",
        "            shutil.copy(os.path.join(source_path, selected_images[start_idx]), os.path.join(split_path, img_name))\n",
        "            start_idx += 1"
      ],
      "metadata": {
        "id": "wkGvwNXh4eNu"
      },
      "execution_count": null,
      "outputs": []
    },
    {
      "cell_type": "markdown",
      "source": [
        "## Training\n",
        "Now that we've gotten our dataset mounted and our splits taken care of, we can begin training.\n",
        "\n",
        "The best thing about the classification model is that no .yaml file is necessary, as the folder structure is enough to ensure the training, validation, and testing splits are recognized for each class!"
      ],
      "metadata": {
        "id": "upsYpZdeL4cF"
      }
    },
    {
      "cell_type": "code",
      "execution_count": null,
      "metadata": {
        "colab": {
          "base_uri": "https://localhost:8080/"
        },
        "id": "_KoPmRlbHxBP",
        "outputId": "8737b45e-201b-4936-8287-f070309fe3ab"
      },
      "outputs": [
        {
          "output_type": "stream",
          "name": "stdout",
          "text": [
            "Ultralytics 8.3.72 🚀 Python-3.11.11 torch-2.5.1+cu124 CUDA:0 (NVIDIA A100-SXM4-40GB, 40507MiB)\n",
            "Setup complete ✅ (12 CPUs, 83.5 GB RAM, 43.2/235.7 GB disk)\n"
          ]
        }
      ],
      "source": [
        "# Install Ultralytics and dependencies\n",
        "%pip install ultralytics  # install\n",
        "from ultralytics import YOLO, checks\n",
        "checks()  # checks"
      ]
    },
    {
      "cell_type": "code",
      "source": [
        "# Load a model\n",
        "model = YOLO(\"yolo11m-cls.pt\")  # Load a pretrained model\n",
        "\n",
        "# Train the model\n",
        "results = model.train(data=target_dir, epochs=25, imgsz=640) # batch=48 not used this time"
      ],
      "metadata": {
        "colab": {
          "base_uri": "https://localhost:8080/"
        },
        "id": "ontZFaDx8atu",
        "outputId": "a5681996-7d71-413c-cb31-9119aede0e8a"
      },
      "execution_count": null,
      "outputs": [
        {
          "output_type": "stream",
          "name": "stdout",
          "text": [
            "Downloading https://github.com/ultralytics/assets/releases/download/v8.3.0/yolo11m-cls.pt to 'yolo11m-cls.pt'...\n"
          ]
        },
        {
          "output_type": "stream",
          "name": "stderr",
          "text": [
            "100%|██████████| 22.4M/22.4M [00:00<00:00, 162MB/s]\n"
          ]
        },
        {
          "output_type": "stream",
          "name": "stdout",
          "text": [
            "Ultralytics 8.3.72 🚀 Python-3.11.11 torch-2.5.1+cu124 CUDA:0 (NVIDIA A100-SXM4-40GB, 40507MiB)\n",
            "\u001b[34m\u001b[1mengine/trainer: \u001b[0mtask=classify, mode=train, model=yolo11m-cls.pt, data=/content/SenDsgnTraining, epochs=25, time=None, patience=100, batch=16, imgsz=640, save=True, save_period=-1, cache=False, device=None, workers=8, project=None, name=train, exist_ok=False, pretrained=True, optimizer=auto, verbose=True, seed=0, deterministic=True, single_cls=False, rect=False, cos_lr=False, close_mosaic=10, resume=False, amp=True, fraction=1.0, profile=False, freeze=None, multi_scale=False, overlap_mask=True, mask_ratio=4, dropout=0.0, val=True, split=val, save_json=False, save_hybrid=False, conf=None, iou=0.7, max_det=300, half=False, dnn=False, plots=True, source=None, vid_stride=1, stream_buffer=False, visualize=False, augment=False, agnostic_nms=False, classes=None, retina_masks=False, embed=None, show=False, save_frames=False, save_txt=False, save_conf=False, save_crop=False, show_labels=True, show_conf=True, show_boxes=True, line_width=None, format=torchscript, keras=False, optimize=False, int8=False, dynamic=False, simplify=True, opset=None, workspace=None, nms=False, lr0=0.01, lrf=0.01, momentum=0.937, weight_decay=0.0005, warmup_epochs=3.0, warmup_momentum=0.8, warmup_bias_lr=0.1, box=7.5, cls=0.5, dfl=1.5, pose=12.0, kobj=1.0, nbs=64, hsv_h=0.015, hsv_s=0.7, hsv_v=0.4, degrees=0.0, translate=0.1, scale=0.5, shear=0.0, perspective=0.0, flipud=0.0, fliplr=0.5, bgr=0.0, mosaic=1.0, mixup=0.0, copy_paste=0.0, copy_paste_mode=flip, auto_augment=randaugment, erasing=0.4, crop_fraction=1.0, cfg=None, tracker=botsort.yaml, save_dir=runs/classify/train\n",
            "\u001b[34m\u001b[1mtrain:\u001b[0m /content/SenDsgnTraining/train... found 280 images in 2 classes ✅ \n",
            "\u001b[34m\u001b[1mval:\u001b[0m /content/SenDsgnTraining/val... found 60 images in 2 classes ✅ \n",
            "\u001b[34m\u001b[1mtest:\u001b[0m /content/SenDsgnTraining/test... found 60 images in 2 classes ✅ \n",
            "Overriding model.yaml nc=80 with nc=2\n",
            "\n",
            "                   from  n    params  module                                       arguments                     \n",
            "  0                  -1  1      1856  ultralytics.nn.modules.conv.Conv             [3, 64, 3, 2]                 \n",
            "  1                  -1  1     73984  ultralytics.nn.modules.conv.Conv             [64, 128, 3, 2]               \n",
            "  2                  -1  1    111872  ultralytics.nn.modules.block.C3k2            [128, 256, 1, True, 0.25]     \n",
            "  3                  -1  1    590336  ultralytics.nn.modules.conv.Conv             [256, 256, 3, 2]              \n",
            "  4                  -1  1    444928  ultralytics.nn.modules.block.C3k2            [256, 512, 1, True, 0.25]     \n",
            "  5                  -1  1   2360320  ultralytics.nn.modules.conv.Conv             [512, 512, 3, 2]              \n",
            "  6                  -1  1   1380352  ultralytics.nn.modules.block.C3k2            [512, 512, 1, True]           \n",
            "  7                  -1  1   2360320  ultralytics.nn.modules.conv.Conv             [512, 512, 3, 2]              \n",
            "  8                  -1  1   1380352  ultralytics.nn.modules.block.C3k2            [512, 512, 1, True]           \n",
            "  9                  -1  1    990976  ultralytics.nn.modules.block.C2PSA           [512, 512, 1]                 \n",
            " 10                  -1  1    660482  ultralytics.nn.modules.head.Classify         [512, 2]                      \n",
            "YOLO11m-cls summary: 187 layers, 10,355,778 parameters, 10,355,778 gradients, 39.6 GFLOPs\n",
            "Transferred 294/296 items from pretrained weights\n",
            "\u001b[34m\u001b[1mTensorBoard: \u001b[0mStart with 'tensorboard --logdir runs/classify/train', view at http://localhost:6006/\n",
            "\u001b[34m\u001b[1mAMP: \u001b[0mrunning Automatic Mixed Precision (AMP) checks...\n",
            "Downloading https://github.com/ultralytics/assets/releases/download/v8.3.0/yolo11n.pt to 'yolo11n.pt'...\n"
          ]
        },
        {
          "output_type": "stream",
          "name": "stderr",
          "text": [
            "100%|██████████| 5.35M/5.35M [00:00<00:00, 59.2MB/s]\n"
          ]
        },
        {
          "output_type": "stream",
          "name": "stdout",
          "text": [
            "\u001b[34m\u001b[1mAMP: \u001b[0mchecks passed ✅\n"
          ]
        },
        {
          "output_type": "stream",
          "name": "stderr",
          "text": [
            "\u001b[34m\u001b[1mtrain: \u001b[0mScanning /content/SenDsgnTraining/train... 280 images, 0 corrupt: 100%|██████████| 280/280 [00:00<00:00, 1599.07it/s]"
          ]
        },
        {
          "output_type": "stream",
          "name": "stdout",
          "text": [
            "\u001b[34m\u001b[1mtrain: \u001b[0mNew cache created: /content/SenDsgnTraining/train.cache\n"
          ]
        },
        {
          "output_type": "stream",
          "name": "stderr",
          "text": [
            "\n",
            "\u001b[34m\u001b[1mval: \u001b[0mScanning /content/SenDsgnTraining/val... 60 images, 0 corrupt: 100%|██████████| 60/60 [00:00<00:00, 1565.90it/s]"
          ]
        },
        {
          "output_type": "stream",
          "name": "stdout",
          "text": [
            "\u001b[34m\u001b[1mval: \u001b[0mNew cache created: /content/SenDsgnTraining/val.cache\n"
          ]
        },
        {
          "output_type": "stream",
          "name": "stderr",
          "text": [
            "\n"
          ]
        },
        {
          "output_type": "stream",
          "name": "stdout",
          "text": [
            "\u001b[34m\u001b[1moptimizer:\u001b[0m 'optimizer=auto' found, ignoring 'lr0=0.01' and 'momentum=0.937' and determining best 'optimizer', 'lr0' and 'momentum' automatically... \n",
            "\u001b[34m\u001b[1moptimizer:\u001b[0m AdamW(lr=0.001667, momentum=0.9) with parameter groups 49 weight(decay=0.0), 50 weight(decay=0.0005), 50 bias(decay=0.0)\n",
            "\u001b[34m\u001b[1mTensorBoard: \u001b[0mmodel graph visualization added ✅\n",
            "Image sizes 640 train, 640 val\n",
            "Using 8 dataloader workers\n",
            "Logging results to \u001b[1mruns/classify/train\u001b[0m\n",
            "Starting training for 25 epochs...\n",
            "\n",
            "      Epoch    GPU_mem       loss  Instances       Size\n"
          ]
        },
        {
          "output_type": "stream",
          "name": "stderr",
          "text": [
            "       1/25      6.28G     0.7022         16        640:  28%|██▊       | 5/18 [00:11<00:14,  1.13s/it]"
          ]
        },
        {
          "output_type": "stream",
          "name": "stdout",
          "text": [
            "Downloading https://ultralytics.com/assets/Arial.ttf to '/root/.config/Ultralytics/Arial.ttf'...\n"
          ]
        },
        {
          "output_type": "stream",
          "name": "stderr",
          "text": [
            "       1/25      6.28G     0.6587         16        640:  33%|███▎      | 6/18 [00:11<00:09,  1.23it/s]\n",
            "100%|██████████| 755k/755k [00:00<00:00, 16.0MB/s]\n",
            "       1/25      6.28G     0.3146          8        640: 100%|██████████| 18/18 [00:34<00:00,  1.92s/it]\n",
            "               classes   top1_acc   top5_acc: 100%|██████████| 2/2 [00:00<00:00,  4.02it/s]"
          ]
        },
        {
          "output_type": "stream",
          "name": "stdout",
          "text": [
            "                   all          1          1\n"
          ]
        },
        {
          "output_type": "stream",
          "name": "stderr",
          "text": [
            "\n"
          ]
        },
        {
          "output_type": "stream",
          "name": "stdout",
          "text": [
            "\n",
            "      Epoch    GPU_mem       loss  Instances       Size\n"
          ]
        },
        {
          "output_type": "stream",
          "name": "stderr",
          "text": [
            "       2/25      6.33G    0.05483          8        640: 100%|██████████| 18/18 [00:18<00:00,  1.02s/it]\n",
            "               classes   top1_acc   top5_acc: 100%|██████████| 2/2 [00:00<00:00, 23.20it/s]"
          ]
        },
        {
          "output_type": "stream",
          "name": "stdout",
          "text": [
            "                   all          1          1\n"
          ]
        },
        {
          "output_type": "stream",
          "name": "stderr",
          "text": [
            "\n"
          ]
        },
        {
          "output_type": "stream",
          "name": "stdout",
          "text": [
            "\n",
            "      Epoch    GPU_mem       loss  Instances       Size\n"
          ]
        },
        {
          "output_type": "stream",
          "name": "stderr",
          "text": [
            "       3/25      6.33G    0.05599          8        640: 100%|██████████| 18/18 [00:17<00:00,  1.05it/s]\n",
            "               classes   top1_acc   top5_acc: 100%|██████████| 2/2 [00:00<00:00, 22.97it/s]\n"
          ]
        },
        {
          "output_type": "stream",
          "name": "stdout",
          "text": [
            "                   all          1          1\n",
            "\n",
            "      Epoch    GPU_mem       loss  Instances       Size\n"
          ]
        },
        {
          "output_type": "stream",
          "name": "stderr",
          "text": [
            "       4/25      6.32G    0.03935          8        640: 100%|██████████| 18/18 [00:15<00:00,  1.14it/s]\n",
            "               classes   top1_acc   top5_acc: 100%|██████████| 2/2 [00:00<00:00, 23.30it/s]"
          ]
        },
        {
          "output_type": "stream",
          "name": "stdout",
          "text": [
            "                   all          1          1\n"
          ]
        },
        {
          "output_type": "stream",
          "name": "stderr",
          "text": [
            "\n"
          ]
        },
        {
          "output_type": "stream",
          "name": "stdout",
          "text": [
            "\n",
            "      Epoch    GPU_mem       loss  Instances       Size\n"
          ]
        },
        {
          "output_type": "stream",
          "name": "stderr",
          "text": [
            "       5/25      6.32G    0.01725          8        640: 100%|██████████| 18/18 [00:19<00:00,  1.09s/it]\n",
            "               classes   top1_acc   top5_acc: 100%|██████████| 2/2 [00:00<00:00, 21.06it/s]"
          ]
        },
        {
          "output_type": "stream",
          "name": "stdout",
          "text": [
            "                   all          1          1\n"
          ]
        },
        {
          "output_type": "stream",
          "name": "stderr",
          "text": [
            "\n"
          ]
        },
        {
          "output_type": "stream",
          "name": "stdout",
          "text": [
            "\n",
            "      Epoch    GPU_mem       loss  Instances       Size\n"
          ]
        },
        {
          "output_type": "stream",
          "name": "stderr",
          "text": [
            "       6/25      6.34G    0.02545          8        640: 100%|██████████| 18/18 [00:14<00:00,  1.21it/s]\n",
            "               classes   top1_acc   top5_acc: 100%|██████████| 2/2 [00:00<00:00, 19.95it/s]"
          ]
        },
        {
          "output_type": "stream",
          "name": "stdout",
          "text": [
            "                   all          1          1\n"
          ]
        },
        {
          "output_type": "stream",
          "name": "stderr",
          "text": [
            "\n"
          ]
        },
        {
          "output_type": "stream",
          "name": "stdout",
          "text": [
            "\n",
            "      Epoch    GPU_mem       loss  Instances       Size\n"
          ]
        },
        {
          "output_type": "stream",
          "name": "stderr",
          "text": [
            "       7/25      6.32G    0.03639          8        640: 100%|██████████| 18/18 [00:18<00:00,  1.03s/it]\n",
            "               classes   top1_acc   top5_acc: 100%|██████████| 2/2 [00:00<00:00, 21.69it/s]"
          ]
        },
        {
          "output_type": "stream",
          "name": "stdout",
          "text": [
            "                   all      0.967          1\n"
          ]
        },
        {
          "output_type": "stream",
          "name": "stderr",
          "text": [
            "\n"
          ]
        },
        {
          "output_type": "stream",
          "name": "stdout",
          "text": [
            "\n",
            "      Epoch    GPU_mem       loss  Instances       Size\n"
          ]
        },
        {
          "output_type": "stream",
          "name": "stderr",
          "text": [
            "       8/25      6.34G     0.2528          8        640: 100%|██████████| 18/18 [00:12<00:00,  1.41it/s]\n",
            "               classes   top1_acc   top5_acc: 100%|██████████| 2/2 [00:00<00:00, 23.23it/s]"
          ]
        },
        {
          "output_type": "stream",
          "name": "stdout",
          "text": [
            "                   all          1          1\n"
          ]
        },
        {
          "output_type": "stream",
          "name": "stderr",
          "text": [
            "\n"
          ]
        },
        {
          "output_type": "stream",
          "name": "stdout",
          "text": [
            "\n",
            "      Epoch    GPU_mem       loss  Instances       Size\n"
          ]
        },
        {
          "output_type": "stream",
          "name": "stderr",
          "text": [
            "       9/25      6.32G    0.04106          8        640: 100%|██████████| 18/18 [00:21<00:00,  1.20s/it]\n",
            "               classes   top1_acc   top5_acc: 100%|██████████| 2/2 [00:00<00:00, 20.67it/s]"
          ]
        },
        {
          "output_type": "stream",
          "name": "stdout",
          "text": [
            "                   all          1          1\n"
          ]
        },
        {
          "output_type": "stream",
          "name": "stderr",
          "text": [
            "\n"
          ]
        },
        {
          "output_type": "stream",
          "name": "stdout",
          "text": [
            "\n",
            "      Epoch    GPU_mem       loss  Instances       Size\n"
          ]
        },
        {
          "output_type": "stream",
          "name": "stderr",
          "text": [
            "      10/25      6.34G     0.0121          8        640: 100%|██████████| 18/18 [00:12<00:00,  1.41it/s]\n",
            "               classes   top1_acc   top5_acc: 100%|██████████| 2/2 [00:00<00:00, 22.61it/s]"
          ]
        },
        {
          "output_type": "stream",
          "name": "stdout",
          "text": [
            "                   all          1          1\n"
          ]
        },
        {
          "output_type": "stream",
          "name": "stderr",
          "text": [
            "\n"
          ]
        },
        {
          "output_type": "stream",
          "name": "stdout",
          "text": [
            "\n",
            "      Epoch    GPU_mem       loss  Instances       Size\n"
          ]
        },
        {
          "output_type": "stream",
          "name": "stderr",
          "text": [
            "      11/25      6.32G    0.00867          8        640: 100%|██████████| 18/18 [00:18<00:00,  1.03s/it]\n",
            "               classes   top1_acc   top5_acc: 100%|██████████| 2/2 [00:00<00:00, 23.20it/s]"
          ]
        },
        {
          "output_type": "stream",
          "name": "stdout",
          "text": [
            "                   all          1          1\n"
          ]
        },
        {
          "output_type": "stream",
          "name": "stderr",
          "text": [
            "\n"
          ]
        },
        {
          "output_type": "stream",
          "name": "stdout",
          "text": [
            "\n",
            "      Epoch    GPU_mem       loss  Instances       Size\n"
          ]
        },
        {
          "output_type": "stream",
          "name": "stderr",
          "text": [
            "      12/25      6.34G    0.01384          8        640: 100%|██████████| 18/18 [00:14<00:00,  1.25it/s]\n",
            "               classes   top1_acc   top5_acc: 100%|██████████| 2/2 [00:00<00:00, 15.08it/s]"
          ]
        },
        {
          "output_type": "stream",
          "name": "stdout",
          "text": [
            "                   all          1          1\n"
          ]
        },
        {
          "output_type": "stream",
          "name": "stderr",
          "text": [
            "\n"
          ]
        },
        {
          "output_type": "stream",
          "name": "stdout",
          "text": [
            "\n",
            "      Epoch    GPU_mem       loss  Instances       Size\n"
          ]
        },
        {
          "output_type": "stream",
          "name": "stderr",
          "text": [
            "      13/25      6.32G    0.02786          8        640: 100%|██████████| 18/18 [00:20<00:00,  1.12s/it]\n",
            "               classes   top1_acc   top5_acc: 100%|██████████| 2/2 [00:00<00:00, 22.82it/s]"
          ]
        },
        {
          "output_type": "stream",
          "name": "stdout",
          "text": [
            "                   all          1          1\n"
          ]
        },
        {
          "output_type": "stream",
          "name": "stderr",
          "text": [
            "\n"
          ]
        },
        {
          "output_type": "stream",
          "name": "stdout",
          "text": [
            "\n",
            "      Epoch    GPU_mem       loss  Instances       Size\n"
          ]
        },
        {
          "output_type": "stream",
          "name": "stderr",
          "text": [
            "      14/25      6.34G    0.01069          8        640: 100%|██████████| 18/18 [00:17<00:00,  1.03it/s]\n",
            "               classes   top1_acc   top5_acc: 100%|██████████| 2/2 [00:00<00:00, 22.50it/s]"
          ]
        },
        {
          "output_type": "stream",
          "name": "stdout",
          "text": [
            "                   all          1          1\n"
          ]
        },
        {
          "output_type": "stream",
          "name": "stderr",
          "text": [
            "\n"
          ]
        },
        {
          "output_type": "stream",
          "name": "stdout",
          "text": [
            "\n",
            "      Epoch    GPU_mem       loss  Instances       Size\n"
          ]
        },
        {
          "output_type": "stream",
          "name": "stderr",
          "text": [
            "      15/25      6.32G    0.01114          8        640: 100%|██████████| 18/18 [00:14<00:00,  1.21it/s]\n",
            "               classes   top1_acc   top5_acc: 100%|██████████| 2/2 [00:00<00:00, 20.23it/s]"
          ]
        },
        {
          "output_type": "stream",
          "name": "stdout",
          "text": [
            "                   all          1          1\n"
          ]
        },
        {
          "output_type": "stream",
          "name": "stderr",
          "text": [
            "\n"
          ]
        },
        {
          "output_type": "stream",
          "name": "stdout",
          "text": [
            "\n",
            "      Epoch    GPU_mem       loss  Instances       Size\n"
          ]
        },
        {
          "output_type": "stream",
          "name": "stderr",
          "text": [
            "      16/25      6.34G    0.05516          8        640: 100%|██████████| 18/18 [00:19<00:00,  1.10s/it]\n",
            "               classes   top1_acc   top5_acc: 100%|██████████| 2/2 [00:00<00:00, 21.11it/s]"
          ]
        },
        {
          "output_type": "stream",
          "name": "stdout",
          "text": [
            "                   all          1          1\n"
          ]
        },
        {
          "output_type": "stream",
          "name": "stderr",
          "text": [
            "\n"
          ]
        },
        {
          "output_type": "stream",
          "name": "stdout",
          "text": [
            "\n",
            "      Epoch    GPU_mem       loss  Instances       Size\n"
          ]
        },
        {
          "output_type": "stream",
          "name": "stderr",
          "text": [
            "      17/25      6.32G    0.03226          8        640: 100%|██████████| 18/18 [00:15<00:00,  1.15it/s]\n",
            "               classes   top1_acc   top5_acc: 100%|██████████| 2/2 [00:00<00:00, 22.65it/s]"
          ]
        },
        {
          "output_type": "stream",
          "name": "stdout",
          "text": [
            "                   all          1          1\n"
          ]
        },
        {
          "output_type": "stream",
          "name": "stderr",
          "text": [
            "\n"
          ]
        },
        {
          "output_type": "stream",
          "name": "stdout",
          "text": [
            "\n",
            "      Epoch    GPU_mem       loss  Instances       Size\n"
          ]
        },
        {
          "output_type": "stream",
          "name": "stderr",
          "text": [
            "      18/25      6.34G    0.02453          8        640: 100%|██████████| 18/18 [00:15<00:00,  1.15it/s]\n",
            "               classes   top1_acc   top5_acc: 100%|██████████| 2/2 [00:00<00:00, 23.46it/s]"
          ]
        },
        {
          "output_type": "stream",
          "name": "stdout",
          "text": [
            "                   all          1          1\n"
          ]
        },
        {
          "output_type": "stream",
          "name": "stderr",
          "text": [
            "\n"
          ]
        },
        {
          "output_type": "stream",
          "name": "stdout",
          "text": [
            "\n",
            "      Epoch    GPU_mem       loss  Instances       Size\n"
          ]
        },
        {
          "output_type": "stream",
          "name": "stderr",
          "text": [
            "      19/25      6.32G   0.006381          8        640: 100%|██████████| 18/18 [00:15<00:00,  1.16it/s]\n",
            "               classes   top1_acc   top5_acc: 100%|██████████| 2/2 [00:00<00:00, 23.13it/s]"
          ]
        },
        {
          "output_type": "stream",
          "name": "stdout",
          "text": [
            "                   all          1          1\n"
          ]
        },
        {
          "output_type": "stream",
          "name": "stderr",
          "text": [
            "\n"
          ]
        },
        {
          "output_type": "stream",
          "name": "stdout",
          "text": [
            "\n",
            "      Epoch    GPU_mem       loss  Instances       Size\n"
          ]
        },
        {
          "output_type": "stream",
          "name": "stderr",
          "text": [
            "      20/25      6.34G   0.003753          8        640: 100%|██████████| 18/18 [00:23<00:00,  1.30s/it]\n",
            "               classes   top1_acc   top5_acc: 100%|██████████| 2/2 [00:00<00:00, 22.04it/s]"
          ]
        },
        {
          "output_type": "stream",
          "name": "stdout",
          "text": [
            "                   all          1          1\n"
          ]
        },
        {
          "output_type": "stream",
          "name": "stderr",
          "text": [
            "\n"
          ]
        },
        {
          "output_type": "stream",
          "name": "stdout",
          "text": [
            "\n",
            "      Epoch    GPU_mem       loss  Instances       Size\n"
          ]
        },
        {
          "output_type": "stream",
          "name": "stderr",
          "text": [
            "      21/25      6.32G   0.005046          8        640: 100%|██████████| 18/18 [00:14<00:00,  1.27it/s]\n",
            "               classes   top1_acc   top5_acc: 100%|██████████| 2/2 [00:00<00:00, 23.08it/s]"
          ]
        },
        {
          "output_type": "stream",
          "name": "stdout",
          "text": [
            "                   all          1          1\n"
          ]
        },
        {
          "output_type": "stream",
          "name": "stderr",
          "text": [
            "\n"
          ]
        },
        {
          "output_type": "stream",
          "name": "stdout",
          "text": [
            "\n",
            "      Epoch    GPU_mem       loss  Instances       Size\n"
          ]
        },
        {
          "output_type": "stream",
          "name": "stderr",
          "text": [
            "      22/25      6.34G   0.002475          8        640: 100%|██████████| 18/18 [00:15<00:00,  1.18it/s]\n",
            "               classes   top1_acc   top5_acc: 100%|██████████| 2/2 [00:00<00:00, 23.01it/s]"
          ]
        },
        {
          "output_type": "stream",
          "name": "stdout",
          "text": [
            "                   all          1          1\n"
          ]
        },
        {
          "output_type": "stream",
          "name": "stderr",
          "text": [
            "\n"
          ]
        },
        {
          "output_type": "stream",
          "name": "stdout",
          "text": [
            "\n",
            "      Epoch    GPU_mem       loss  Instances       Size\n"
          ]
        },
        {
          "output_type": "stream",
          "name": "stderr",
          "text": [
            "      23/25      6.32G   0.004324          8        640: 100%|██████████| 18/18 [00:15<00:00,  1.15it/s]\n",
            "               classes   top1_acc   top5_acc: 100%|██████████| 2/2 [00:00<00:00, 23.38it/s]"
          ]
        },
        {
          "output_type": "stream",
          "name": "stdout",
          "text": [
            "                   all          1          1\n"
          ]
        },
        {
          "output_type": "stream",
          "name": "stderr",
          "text": [
            "\n"
          ]
        },
        {
          "output_type": "stream",
          "name": "stdout",
          "text": [
            "\n",
            "      Epoch    GPU_mem       loss  Instances       Size\n"
          ]
        },
        {
          "output_type": "stream",
          "name": "stderr",
          "text": [
            "      24/25      6.34G   0.001016          8        640: 100%|██████████| 18/18 [00:21<00:00,  1.19s/it]\n",
            "               classes   top1_acc   top5_acc: 100%|██████████| 2/2 [00:00<00:00, 23.19it/s]"
          ]
        },
        {
          "output_type": "stream",
          "name": "stdout",
          "text": [
            "                   all          1          1\n"
          ]
        },
        {
          "output_type": "stream",
          "name": "stderr",
          "text": [
            "\n"
          ]
        },
        {
          "output_type": "stream",
          "name": "stdout",
          "text": [
            "\n",
            "      Epoch    GPU_mem       loss  Instances       Size\n"
          ]
        },
        {
          "output_type": "stream",
          "name": "stderr",
          "text": [
            "      25/25      6.32G    0.00193          8        640: 100%|██████████| 18/18 [00:14<00:00,  1.21it/s]\n",
            "               classes   top1_acc   top5_acc: 100%|██████████| 2/2 [00:00<00:00, 23.16it/s]"
          ]
        },
        {
          "output_type": "stream",
          "name": "stdout",
          "text": [
            "                   all          1          1\n"
          ]
        },
        {
          "output_type": "stream",
          "name": "stderr",
          "text": [
            "\n"
          ]
        },
        {
          "output_type": "stream",
          "name": "stdout",
          "text": [
            "\n",
            "25 epochs completed in 0.136 hours.\n",
            "Optimizer stripped from runs/classify/train/weights/last.pt, 20.9MB\n",
            "Optimizer stripped from runs/classify/train/weights/best.pt, 20.9MB\n",
            "\n",
            "Validating runs/classify/train/weights/best.pt...\n",
            "Ultralytics 8.3.72 🚀 Python-3.11.11 torch-2.5.1+cu124 CUDA:0 (NVIDIA A100-SXM4-40GB, 40507MiB)\n",
            "YOLO11m-cls summary (fused): 138 layers, 10,344,194 parameters, 0 gradients, 39.3 GFLOPs\n",
            "\u001b[34m\u001b[1mtrain:\u001b[0m /content/SenDsgnTraining/train... found 280 images in 2 classes ✅ \n",
            "\u001b[34m\u001b[1mval:\u001b[0m /content/SenDsgnTraining/val... found 60 images in 2 classes ✅ \n",
            "\u001b[34m\u001b[1mtest:\u001b[0m /content/SenDsgnTraining/test... found 60 images in 2 classes ✅ \n"
          ]
        },
        {
          "output_type": "stream",
          "name": "stderr",
          "text": [
            "               classes   top1_acc   top5_acc: 100%|██████████| 2/2 [00:00<00:00, 12.10it/s]\n"
          ]
        },
        {
          "output_type": "stream",
          "name": "stdout",
          "text": [
            "                   all          1          1\n",
            "Speed: 0.4ms preprocess, 1.0ms inference, 0.0ms loss, 0.0ms postprocess per image\n",
            "Results saved to \u001b[1mruns/classify/train\u001b[0m\n"
          ]
        }
      ]
    },
    {
      "cell_type": "code",
      "source": [
        "# Just in case, we want to download the \"runs\" folder and save our training results\n",
        "!zip -r /content/run2.zip /content/runs"
      ],
      "metadata": {
        "colab": {
          "base_uri": "https://localhost:8080/"
        },
        "id": "XtyUP93jG5CE",
        "outputId": "c1841d9f-fa26-4fd0-b720-9745ef89eeac"
      },
      "execution_count": null,
      "outputs": [
        {
          "output_type": "stream",
          "name": "stdout",
          "text": [
            "  adding: content/runs/ (stored 0%)\n",
            "  adding: content/runs/classify/ (stored 0%)\n",
            "  adding: content/runs/classify/train/ (stored 0%)\n",
            "  adding: content/runs/classify/train/train_batch2.jpg (deflated 1%)\n",
            "  adding: content/runs/classify/train/val_batch0_pred.jpg (deflated 0%)\n",
            "  adding: content/runs/classify/train/train_batch1.jpg (deflated 1%)\n",
            "  adding: content/runs/classify/train/results.png (deflated 11%)\n",
            "  adding: content/runs/classify/train/events.out.tfevents.1738876534.19d4f559969d.1354.0 (deflated 93%)\n",
            "  adding: content/runs/classify/train/confusion_matrix.png (deflated 36%)\n",
            "  adding: content/runs/classify/train/args.yaml (deflated 52%)\n",
            "  adding: content/runs/classify/train/weights/ (stored 0%)\n",
            "  adding: content/runs/classify/train/weights/best.pt (deflated 8%)\n",
            "  adding: content/runs/classify/train/weights/last.pt (deflated 8%)\n",
            "  adding: content/runs/classify/train/val_batch0_labels.jpg (deflated 0%)\n",
            "  adding: content/runs/classify/train/train_batch271.jpg (deflated 1%)\n",
            "  adding: content/runs/classify/train/train_batch272.jpg (deflated 1%)\n",
            "  adding: content/runs/classify/train/train_batch270.jpg (deflated 1%)\n",
            "  adding: content/runs/classify/train/val_batch1_pred.jpg (deflated 0%)\n",
            "  adding: content/runs/classify/train/confusion_matrix_normalized.png (deflated 35%)\n",
            "  adding: content/runs/classify/train/val_batch1_labels.jpg (deflated 0%)\n",
            "  adding: content/runs/classify/train/train_batch0.jpg (deflated 1%)\n",
            "  adding: content/runs/classify/train/results.csv (deflated 68%)\n"
          ]
        }
      ]
    }
  ]
}